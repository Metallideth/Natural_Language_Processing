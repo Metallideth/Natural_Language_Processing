{
 "cells": [
  {
   "cell_type": "code",
   "execution_count": 1,
   "metadata": {},
   "outputs": [],
   "source": [
    "import pandas as pd\n",
    "import numpy as np\n",
    "import pickle\n",
    "from collections import defaultdict\n",
    "from tqdm import tqdm\n",
    "from IPython.core.interactiveshell import InteractiveShell\n",
    "InteractiveShell.ast_node_interactivity = \"all\"\n",
    "import math"
   ]
  },
  {
   "cell_type": "code",
   "execution_count": 2,
   "metadata": {},
   "outputs": [],
   "source": [
    "with open('../inference/27-02-2024_2352_antikey_output.pkl','rb') as file:\n",
    "    impact_output = pickle.load(file)\n",
    "with open('../Data/index_label_mapping.pkl','rb') as file:\n",
    "    index_label_mapping = pickle.load(file)"
   ]
  },
  {
   "cell_type": "code",
   "execution_count": 3,
   "metadata": {},
   "outputs": [
    {
     "data": {
      "text/plain": [
       "669785"
      ]
     },
     "execution_count": 3,
     "metadata": {},
     "output_type": "execute_result"
    }
   ],
   "source": [
    "len(impact_output)"
   ]
  },
  {
   "cell_type": "code",
   "execution_count": 4,
   "metadata": {},
   "outputs": [
    {
     "data": {
      "text/plain": [
       "{'Role': ['DEVELOPMENT',\n",
       "  'GOVERNANCE RISK COMPLIANCE',\n",
       "  'INFORMATION SECURITY',\n",
       "  'IT GENERAL',\n",
       "  'NETWORKING',\n",
       "  'NON-ICP',\n",
       "  'SYSTEMS'],\n",
       " 'Function': ['ENGINEERING',\n",
       "  'IT',\n",
       "  'NON-ICP',\n",
       "  'PROCUREMENT',\n",
       "  'RISK/LEGAL/COMPLIANCE'],\n",
       " 'Level': ['C-LEVEL',\n",
       "  'CONTRIBUTOR',\n",
       "  'DIRECTOR',\n",
       "  'EXECUTIVE',\n",
       "  'MANAGER',\n",
       "  'UNKNOWN']}"
      ]
     },
     "execution_count": 4,
     "metadata": {},
     "output_type": "execute_result"
    }
   ],
   "source": [
    "unique_values = {x.replace(\"Job \",\"\"):list(index_label_mapping[x].values()) for x in index_label_mapping}\n",
    "unique_values"
   ]
  },
  {
   "cell_type": "code",
   "execution_count": 5,
   "metadata": {},
   "outputs": [
    {
     "data": {
      "text/plain": [
       "{'Sequence': 'IT DIRECTOR',\n",
       " 'Role': [{'Anti-Prediction': 'DEVELOPMENT',\n",
       "   'Distinct_Tokens': ['IT', 'DIRECTOR'],\n",
       "   'Token_Importance': {'IT': 0.052871253341436386,\n",
       "    'DIRECTOR': 0.9471287727355957},\n",
       "   'Token_Rank': {'IT': 2, 'DIRECTOR': 1},\n",
       "   'Token_Marginal_Score_Positive': {'IT': 0.07268381118774414,\n",
       "    'DIRECTOR': 1.3020483255386353},\n",
       "   'Token_Marginal_Score_Raw': {'IT': 0.07268381118774414,\n",
       "    'DIRECTOR': 1.3020483255386353}},\n",
       "  {'Anti-Prediction': 'GOVERNANCE RISK COMPLIANCE',\n",
       "   'Distinct_Tokens': ['IT', 'DIRECTOR'],\n",
       "   'Token_Importance': {'IT': 0.46622586250305176,\n",
       "    'DIRECTOR': 0.5337741374969482},\n",
       "   'Token_Rank': {'IT': 2, 'DIRECTOR': 1},\n",
       "   'Token_Marginal_Score_Positive': {'IT': 1.185859203338623,\n",
       "    'DIRECTOR': 1.3576703071594238},\n",
       "   'Token_Marginal_Score_Raw': {'IT': 1.185859203338623,\n",
       "    'DIRECTOR': 1.3576703071594238}},\n",
       "  {'Anti-Prediction': 'INFORMATION SECURITY',\n",
       "   'Distinct_Tokens': ['IT', 'DIRECTOR'],\n",
       "   'Token_Importance': {'IT': 0.0, 'DIRECTOR': 1.0},\n",
       "   'Token_Rank': {'IT': 2, 'DIRECTOR': 1},\n",
       "   'Token_Marginal_Score_Positive': {'IT': 0.0,\n",
       "    'DIRECTOR': 5.2588324546813965},\n",
       "   'Token_Marginal_Score_Raw': {'IT': -0.6202244758605957,\n",
       "    'DIRECTOR': 5.2588324546813965}},\n",
       "  {'Anti-Prediction': 'IT GENERAL',\n",
       "   'Distinct_Tokens': ['IT', 'DIRECTOR'],\n",
       "   'Token_Importance': {'IT': 0.4816000759601593,\n",
       "    'DIRECTOR': 0.5183999538421631},\n",
       "   'Token_Rank': {'IT': 2, 'DIRECTOR': 1},\n",
       "   'Token_Marginal_Score_Positive': {'IT': 4.3287458419799805,\n",
       "    'DIRECTOR': 4.659512519836426},\n",
       "   'Token_Marginal_Score_Raw': {'IT': 4.3287458419799805,\n",
       "    'DIRECTOR': 4.659512519836426}},\n",
       "  {'Anti-Prediction': 'NON-ICP',\n",
       "   'Distinct_Tokens': ['IT', 'DIRECTOR'],\n",
       "   'Token_Importance': {'IT': 0.8177248239517212,\n",
       "    'DIRECTOR': 0.1822752207517624},\n",
       "   'Token_Rank': {'IT': 1, 'DIRECTOR': 2},\n",
       "   'Token_Marginal_Score_Positive': {'IT': 7.728674411773682,\n",
       "    'DIRECTOR': 1.7227627038955688},\n",
       "   'Token_Marginal_Score_Raw': {'IT': 7.728674411773682,\n",
       "    'DIRECTOR': 1.7227627038955688}},\n",
       "  {'Anti-Prediction': 'SYSTEMS',\n",
       "   'Distinct_Tokens': ['IT', 'DIRECTOR'],\n",
       "   'Token_Importance': {'IT': 0.0, 'DIRECTOR': 1.0},\n",
       "   'Token_Rank': {'IT': 2, 'DIRECTOR': 1},\n",
       "   'Token_Marginal_Score_Positive': {'IT': 0.0, 'DIRECTOR': 4.765783309936523},\n",
       "   'Token_Marginal_Score_Raw': {'IT': -0.020193099975585938,\n",
       "    'DIRECTOR': 4.765783309936523}}],\n",
       " 'Function': [{'Anti-Prediction': 'ENGINEERING',\n",
       "   'Distinct_Tokens': ['IT', 'DIRECTOR'],\n",
       "   'Token_Importance': {'IT': 0.14683575928211212,\n",
       "    'DIRECTOR': 0.8531642556190491},\n",
       "   'Token_Rank': {'IT': 2, 'DIRECTOR': 1},\n",
       "   'Token_Marginal_Score_Positive': {'IT': 0.07599687576293945,\n",
       "    'DIRECTOR': 0.44156694412231445},\n",
       "   'Token_Marginal_Score_Raw': {'IT': 0.07599687576293945,\n",
       "    'DIRECTOR': 0.44156694412231445}},\n",
       "  {'Anti-Prediction': 'NON-ICP',\n",
       "   'Distinct_Tokens': ['IT', 'DIRECTOR'],\n",
       "   'Token_Importance': {'IT': 0.7790082693099976,\n",
       "    'DIRECTOR': 0.22099171578884125},\n",
       "   'Token_Rank': {'IT': 1, 'DIRECTOR': 2},\n",
       "   'Token_Marginal_Score_Positive': {'IT': 8.398970603942871,\n",
       "    'DIRECTOR': 2.382648468017578},\n",
       "   'Token_Marginal_Score_Raw': {'IT': 8.398970603942871,\n",
       "    'DIRECTOR': 2.382648468017578}},\n",
       "  {'Anti-Prediction': 'PROCUREMENT',\n",
       "   'Distinct_Tokens': ['IT', 'DIRECTOR'],\n",
       "   'Token_Importance': {'IT': 0.44616755843162537,\n",
       "    'DIRECTOR': 0.5538324117660522},\n",
       "   'Token_Rank': {'IT': 2, 'DIRECTOR': 1},\n",
       "   'Token_Marginal_Score_Positive': {'IT': 2.3130035400390625,\n",
       "    'DIRECTOR': 2.871155261993408},\n",
       "   'Token_Marginal_Score_Raw': {'IT': 2.3130035400390625,\n",
       "    'DIRECTOR': 2.871155261993408}},\n",
       "  {'Anti-Prediction': 'RISK/LEGAL/COMPLIANCE',\n",
       "   'Distinct_Tokens': ['IT', 'DIRECTOR'],\n",
       "   'Token_Importance': {'IT': 0.0, 'DIRECTOR': 1.0},\n",
       "   'Token_Rank': {'IT': 2, 'DIRECTOR': 1},\n",
       "   'Token_Marginal_Score_Positive': {'IT': 0.0,\n",
       "    'DIRECTOR': 1.7534213066101074},\n",
       "   'Token_Marginal_Score_Raw': {'IT': -0.17786836624145508,\n",
       "    'DIRECTOR': 1.7534213066101074}}],\n",
       " 'Level': [{'Anti-Prediction': 'C-LEVEL',\n",
       "   'Distinct_Tokens': ['IT', 'DIRECTOR'],\n",
       "   'Token_Importance': {'IT': 0.8458061218261719,\n",
       "    'DIRECTOR': 0.15419386327266693},\n",
       "   'Token_Rank': {'IT': 1, 'DIRECTOR': 2},\n",
       "   'Token_Marginal_Score_Positive': {'IT': 1.574448585510254,\n",
       "    'DIRECTOR': 0.28702831268310547},\n",
       "   'Token_Marginal_Score_Raw': {'IT': 1.574448585510254,\n",
       "    'DIRECTOR': 0.28702831268310547}},\n",
       "  {'Anti-Prediction': 'CONTRIBUTOR',\n",
       "   'Distinct_Tokens': ['IT', 'DIRECTOR'],\n",
       "   'Token_Importance': {'IT': 0.0, 'DIRECTOR': 1.0},\n",
       "   'Token_Rank': {'IT': 2, 'DIRECTOR': 1},\n",
       "   'Token_Marginal_Score_Positive': {'IT': 0.0, 'DIRECTOR': 6.400603294372559},\n",
       "   'Token_Marginal_Score_Raw': {'IT': -3.5594513416290283,\n",
       "    'DIRECTOR': 6.400603294372559}},\n",
       "  {'Anti-Prediction': 'EXECUTIVE',\n",
       "   'Distinct_Tokens': ['IT', 'DIRECTOR'],\n",
       "   'Token_Importance': {'IT': 0.8143731951713562,\n",
       "    'DIRECTOR': 0.1856268048286438},\n",
       "   'Token_Rank': {'IT': 1, 'DIRECTOR': 2},\n",
       "   'Token_Marginal_Score_Positive': {'IT': 1.2698109149932861,\n",
       "    'DIRECTOR': 0.28943848609924316},\n",
       "   'Token_Marginal_Score_Raw': {'IT': 1.2698109149932861,\n",
       "    'DIRECTOR': 0.28943848609924316}},\n",
       "  {'Anti-Prediction': 'MANAGER',\n",
       "   'Distinct_Tokens': ['IT', 'DIRECTOR'],\n",
       "   'Token_Importance': {'IT': nan, 'DIRECTOR': nan},\n",
       "   'Token_Rank': {'IT': 2, 'DIRECTOR': 1},\n",
       "   'Token_Marginal_Score_Positive': {'IT': 0.0, 'DIRECTOR': 0.0},\n",
       "   'Token_Marginal_Score_Raw': {'IT': -1.24850332736969,\n",
       "    'DIRECTOR': -0.1629929542541504}},\n",
       "  {'Anti-Prediction': 'UNKNOWN',\n",
       "   'Distinct_Tokens': ['IT', 'DIRECTOR'],\n",
       "   'Token_Importance': {'IT': 0.2861514389514923,\n",
       "    'DIRECTOR': 0.7138485312461853},\n",
       "   'Token_Rank': {'IT': 2, 'DIRECTOR': 1},\n",
       "   'Token_Marginal_Score_Positive': {'IT': 2.9329028129577637,\n",
       "    'DIRECTOR': 7.3165740966796875},\n",
       "   'Token_Marginal_Score_Raw': {'IT': 2.9329028129577637,\n",
       "    'DIRECTOR': 7.3165740966796875}}]}"
      ]
     },
     "execution_count": 5,
     "metadata": {},
     "output_type": "execute_result"
    }
   ],
   "source": [
    "impact_output[0]"
   ]
  },
  {
   "cell_type": "code",
   "execution_count": 6,
   "metadata": {},
   "outputs": [],
   "source": [
    "# Initialize compilation dictionary - we'll have entries for role, function, and level, which will lead to\n",
    "# entries for each potential output category, which will lead to entries for every individual word with:\n",
    "# 1. Average token importance\n",
    "# 2. Average number of unique tokens in sequence\n",
    "# 3. Average marginal score (positive) - keyword\n",
    "# 4. Average marginal score (raw)\n",
    "# 5. Average marginal score (negative) - anti-keyword\n",
    "# 6. Average token score rank\n",
    "# For 1-6 we'll first need to just record every entry in the structure, then we can run through and take the average\n",
    "keyword_dict_running = {**unique_values}\n",
    "for x in keyword_dict_running:\n",
    "    keyword_dict_running[x] = {}\n",
    "    for y in unique_values[x]:\n",
    "        keyword_dict_running[x][y] = {}"
   ]
  },
  {
   "cell_type": "code",
   "execution_count": 7,
   "metadata": {},
   "outputs": [
    {
     "name": "stderr",
     "output_type": "stream",
     "text": [
      "100%|██████████| 669785/669785 [02:49<00:00, 3953.44it/s]\n"
     ]
    }
   ],
   "source": [
    "# Run through the data\n",
    "# tqdm(enumerate(data_loader,0),total=len(data_loader))\n",
    "for _,sequence in tqdm(enumerate(impact_output,0),total=len(impact_output)):\n",
    "    for key in keyword_dict_running:\n",
    "        this_sequence_info = sequence[key]\n",
    "        for anti_prediction in this_sequence_info:\n",
    "            this_anti_prediction = anti_prediction['Anti-Prediction']\n",
    "            this_tokens = anti_prediction['Distinct_Tokens']\n",
    "            this_unique_tokens_count = len(this_tokens)\n",
    "            for token in this_tokens:\n",
    "                # If not already present in the keyword_dict_running, add it\n",
    "                if token not in keyword_dict_running[key][this_anti_prediction]:\n",
    "                    keyword_dict_running[key][this_anti_prediction][token] = defaultdict(list)\n",
    "                # Append to lists the abovementioned metrics\n",
    "                token_importance = anti_prediction['Token_Importance'][token]\n",
    "                marginal_score_positive = anti_prediction['Token_Marginal_Score_Positive'][token]\n",
    "                raw_score = anti_prediction['Token_Marginal_Score_Raw'][token]\n",
    "                token_rank = anti_prediction['Token_Rank'][token] \n",
    "                if math.isnan(token_importance):\n",
    "                    token_importance = 0\n",
    "                keyword_dict_running[key][this_anti_prediction][token]['Token_Importance'].append(token_importance)\n",
    "                keyword_dict_running[key][this_anti_prediction][token]['Unique_Tokens_Count'].append(this_unique_tokens_count)\n",
    "                keyword_dict_running[key][this_anti_prediction][token]['Marginal_Score_Positive'].append(marginal_score_positive)\n",
    "                keyword_dict_running[key][this_anti_prediction][token]['Marginal_Score_Raw'].append(raw_score)\n",
    "                keyword_dict_running[key][this_anti_prediction][token]['Marginal_Score_Negative'].append(min(raw_score,0))\n",
    "                keyword_dict_running[key][this_anti_prediction][token]['Token_Rank'].append(token_rank)\n",
    "                keyword_dict_running[key][this_anti_prediction][token]['Token_Occurrences'].append(1)"
   ]
  },
  {
   "cell_type": "code",
   "execution_count": 8,
   "metadata": {},
   "outputs": [],
   "source": [
    "keyword_dict_average = {**unique_values}\n",
    "for x in keyword_dict_average:\n",
    "    keyword_dict_average[x] = {}\n",
    "    for y in unique_values[x]:\n",
    "        keyword_dict_average[x][y] = {}"
   ]
  },
  {
   "cell_type": "code",
   "execution_count": 9,
   "metadata": {},
   "outputs": [
    {
     "name": "stderr",
     "output_type": "stream",
     "text": [
      "23166it [00:02, 9212.34it/s] \n",
      "24527it [00:02, 8762.85it/s] \n",
      "20237it [00:01, 10468.68it/s]\n",
      "23672it [00:02, 9411.91it/s] \n",
      "21156it [00:02, 10416.96it/s]\n",
      "19026it [00:02, 8781.99it/s] \n",
      "24313it [00:02, 9496.02it/s] \n",
      "23240it [00:02, 9250.43it/s] \n",
      "12822it [00:00, 17162.88it/s]\n",
      "19476it [00:02, 8674.75it/s] \n",
      "24735it [00:02, 8918.01it/s] \n",
      "24763it [00:02, 8512.15it/s] \n",
      "23020it [00:02, 9392.76it/s] \n",
      "18873it [00:01, 9645.31it/s] \n",
      "21653it [00:02, 9214.62it/s] \n",
      "21800it [00:02, 9501.04it/s] \n",
      "21198it [00:02, 9373.40it/s] \n",
      "24606it [00:02, 9520.35it/s] \n"
     ]
    }
   ],
   "source": [
    "# Now we run through the above dictionary and calculate the averages for each token and underlying list\n",
    "for key in keyword_dict_running:\n",
    "    for prediction in keyword_dict_running[key]:\n",
    "        keyword_dict_average[key][prediction] = defaultdict(list)\n",
    "        for _,token in tqdm(enumerate(keyword_dict_running[key][prediction])):\n",
    "            keyword_dict_average[key][prediction]['Token'].append(token)\n",
    "            keyword_dict_average[key][prediction]['Avg_Token_Importance'].append(np.array(keyword_dict_running[key][prediction][token]['Token_Importance']).mean())\n",
    "            keyword_dict_average[key][prediction]['Avg_Unique_Tokens_Count'].append(np.array(keyword_dict_running[key][prediction][token]['Unique_Tokens_Count']).mean())\n",
    "            keyword_dict_average[key][prediction]['Avg_Marginal_Score_Positive'].append(np.array(keyword_dict_running[key][prediction][token]['Marginal_Score_Positive']).mean())\n",
    "            keyword_dict_average[key][prediction]['Avg_Marginal_Score_Raw'].append(np.array(keyword_dict_running[key][prediction][token]['Marginal_Score_Raw']).mean())\n",
    "            keyword_dict_average[key][prediction]['Avg_Marginal_Score_Negative'].append(np.array(keyword_dict_running[key][prediction][token]['Marginal_Score_Negative']).mean())\n",
    "            keyword_dict_average[key][prediction]['Avg_Token_Rank'].append(np.array(keyword_dict_running[key][prediction][token]['Token_Rank']).mean())\n",
    "            keyword_dict_average[key][prediction]['Total_Token_Occurrences'].append(np.array(keyword_dict_running[key][prediction][token]['Token_Occurrences']).sum())"
   ]
  },
  {
   "cell_type": "code",
   "execution_count": 10,
   "metadata": {},
   "outputs": [],
   "source": [
    "# Now we create a table for each output and possible value for that output. Let's start with a new dictionary to house it\n",
    "keyword_table_dict = {}\n",
    "for x in unique_values:\n",
    "    keyword_table_dict[x] = {}"
   ]
  },
  {
   "cell_type": "code",
   "execution_count": 11,
   "metadata": {},
   "outputs": [],
   "source": [
    "for key in keyword_dict_average:\n",
    "    for output in keyword_dict_average[key]:\n",
    "        keyword_table_dict[key][output] = pd.DataFrame.from_dict(keyword_dict_average[key][output])"
   ]
  },
  {
   "cell_type": "code",
   "execution_count": 12,
   "metadata": {},
   "outputs": [],
   "source": [
    "# Write tables to excel - filter out values with less than 100 total token occurrences\n",
    "writer_keyword = pd.ExcelWriter('../inference/impact_output_antikeyword.xlsx',engine = 'xlsxwriter')\n",
    "for key in keyword_table_dict:\n",
    "    for output in keyword_table_dict[key]:\n",
    "        this_df = keyword_table_dict[key][output] \n",
    "        this_df[this_df.Total_Token_Occurrences >= 100].sort_values(by = 'Avg_Token_Importance',ascending=False).to_excel(\n",
    "            writer_keyword,sheet_name='{}_{}'.format(key.replace('/',''),output.replace('/','')),index = False)\n",
    "writer_keyword.close()"
   ]
  }
 ],
 "metadata": {
  "kernelspec": {
   "display_name": "netskope",
   "language": "python",
   "name": "python3"
  },
  "language_info": {
   "codemirror_mode": {
    "name": "ipython",
    "version": 3
   },
   "file_extension": ".py",
   "mimetype": "text/x-python",
   "name": "python",
   "nbconvert_exporter": "python",
   "pygments_lexer": "ipython3",
   "version": "3.12.1"
  }
 },
 "nbformat": 4,
 "nbformat_minor": 2
}
