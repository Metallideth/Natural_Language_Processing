{
 "cells": [
  {
   "cell_type": "code",
   "execution_count": 1,
   "metadata": {},
   "outputs": [],
   "source": [
    "import pandas as pd\n",
    "import nltk\n",
    "from nltk.corpus import stopwords\n",
    "\n",
    "from IPython.core.interactiveshell import InteractiveShell\n",
    "InteractiveShell.ast_node_interactivity = \"all\""
   ]
  },
  {
   "cell_type": "markdown",
   "metadata": {},
   "source": [
    "Now we load in the data file."
   ]
  },
  {
   "cell_type": "code",
   "execution_count": 2,
   "metadata": {},
   "outputs": [
    {
     "data": {
      "text/html": [
       "<div>\n",
       "<style scoped>\n",
       "    .dataframe tbody tr th:only-of-type {\n",
       "        vertical-align: middle;\n",
       "    }\n",
       "\n",
       "    .dataframe tbody tr th {\n",
       "        vertical-align: top;\n",
       "    }\n",
       "\n",
       "    .dataframe thead th {\n",
       "        text-align: right;\n",
       "    }\n",
       "</style>\n",
       "<table border=\"1\" class=\"dataframe\">\n",
       "  <thead>\n",
       "    <tr style=\"text-align: right;\">\n",
       "      <th></th>\n",
       "      <th>Title</th>\n",
       "      <th>Job Role</th>\n",
       "      <th>Job Function</th>\n",
       "      <th>Job Level</th>\n",
       "    </tr>\n",
       "  </thead>\n",
       "  <tbody>\n",
       "    <tr>\n",
       "      <th>0</th>\n",
       "      <td>Manager-Cybersecurity</td>\n",
       "      <td>Information Security</td>\n",
       "      <td>IT</td>\n",
       "      <td>Manager</td>\n",
       "    </tr>\n",
       "    <tr>\n",
       "      <th>1</th>\n",
       "      <td>Manager, Information Security</td>\n",
       "      <td>Information Security</td>\n",
       "      <td>IT</td>\n",
       "      <td>Manager</td>\n",
       "    </tr>\n",
       "    <tr>\n",
       "      <th>2</th>\n",
       "      <td>User Experience Analyst</td>\n",
       "      <td>Development</td>\n",
       "      <td>Engineering</td>\n",
       "      <td>Contributor</td>\n",
       "    </tr>\n",
       "    <tr>\n",
       "      <th>3</th>\n",
       "      <td>Network Specialist</td>\n",
       "      <td>Networking</td>\n",
       "      <td>IT</td>\n",
       "      <td>Contributor</td>\n",
       "    </tr>\n",
       "    <tr>\n",
       "      <th>4</th>\n",
       "      <td>Director of Privacy and Compliance</td>\n",
       "      <td>Information Security</td>\n",
       "      <td>IT</td>\n",
       "      <td>Director</td>\n",
       "    </tr>\n",
       "    <tr>\n",
       "      <th>5</th>\n",
       "      <td>Assistant Vp, Network Architecture Ccie 1676</td>\n",
       "      <td>Networking</td>\n",
       "      <td>IT</td>\n",
       "      <td>Contributor</td>\n",
       "    </tr>\n",
       "    <tr>\n",
       "      <th>6</th>\n",
       "      <td>Director, Information Security</td>\n",
       "      <td>Networking</td>\n",
       "      <td>IT</td>\n",
       "      <td>Director</td>\n",
       "    </tr>\n",
       "    <tr>\n",
       "      <th>7</th>\n",
       "      <td>CIO</td>\n",
       "      <td>Information Security</td>\n",
       "      <td>IT</td>\n",
       "      <td>C-Level</td>\n",
       "    </tr>\n",
       "    <tr>\n",
       "      <th>8</th>\n",
       "      <td>Director Cloud Operations</td>\n",
       "      <td>IT General</td>\n",
       "      <td>IT</td>\n",
       "      <td>Director</td>\n",
       "    </tr>\n",
       "    <tr>\n",
       "      <th>9</th>\n",
       "      <td>Director, Enterprise Applications</td>\n",
       "      <td>Networking</td>\n",
       "      <td>IT</td>\n",
       "      <td>Director</td>\n",
       "    </tr>\n",
       "    <tr>\n",
       "      <th>10</th>\n",
       "      <td>Chief Information Security Officer</td>\n",
       "      <td>Information Security</td>\n",
       "      <td>IT</td>\n",
       "      <td>C-Level</td>\n",
       "    </tr>\n",
       "    <tr>\n",
       "      <th>11</th>\n",
       "      <td>Information Risk Consultant</td>\n",
       "      <td>Information Security</td>\n",
       "      <td>IT</td>\n",
       "      <td>Contributor</td>\n",
       "    </tr>\n",
       "    <tr>\n",
       "      <th>12</th>\n",
       "      <td>Senior Vice President of Business Shared Services</td>\n",
       "      <td>Systems</td>\n",
       "      <td>IT</td>\n",
       "      <td>Executive</td>\n",
       "    </tr>\n",
       "    <tr>\n",
       "      <th>13</th>\n",
       "      <td>Manager, Technical Services</td>\n",
       "      <td>Systems</td>\n",
       "      <td>IT</td>\n",
       "      <td>Manager</td>\n",
       "    </tr>\n",
       "    <tr>\n",
       "      <th>14</th>\n",
       "      <td>Branch Manager, Purchasing</td>\n",
       "      <td>None Technical</td>\n",
       "      <td>Purchasing</td>\n",
       "      <td>Manager</td>\n",
       "    </tr>\n",
       "    <tr>\n",
       "      <th>15</th>\n",
       "      <td>Systems Administrator</td>\n",
       "      <td>Information Security</td>\n",
       "      <td>IT</td>\n",
       "      <td>Contributor</td>\n",
       "    </tr>\n",
       "    <tr>\n",
       "      <th>16</th>\n",
       "      <td>Chief Information Security Officer (Raytheon I...</td>\n",
       "      <td>Information Security</td>\n",
       "      <td>IT</td>\n",
       "      <td>C-Level</td>\n",
       "    </tr>\n",
       "    <tr>\n",
       "      <th>17</th>\n",
       "      <td>CIO</td>\n",
       "      <td>Information Security</td>\n",
       "      <td>IT</td>\n",
       "      <td>C-Level</td>\n",
       "    </tr>\n",
       "    <tr>\n",
       "      <th>18</th>\n",
       "      <td>Legislative Affairs Director</td>\n",
       "      <td>None Technical</td>\n",
       "      <td>Legal</td>\n",
       "      <td>Director</td>\n",
       "    </tr>\n",
       "    <tr>\n",
       "      <th>19</th>\n",
       "      <td>Manager, Information Systems Applications</td>\n",
       "      <td>Information Security</td>\n",
       "      <td>IT</td>\n",
       "      <td>Manager</td>\n",
       "    </tr>\n",
       "  </tbody>\n",
       "</table>\n",
       "</div>"
      ],
      "text/plain": [
       "                                                Title              Job Role  \\\n",
       "0                               Manager-Cybersecurity  Information Security   \n",
       "1                       Manager, Information Security  Information Security   \n",
       "2                             User Experience Analyst           Development   \n",
       "3                                  Network Specialist            Networking   \n",
       "4                  Director of Privacy and Compliance  Information Security   \n",
       "5        Assistant Vp, Network Architecture Ccie 1676            Networking   \n",
       "6                      Director, Information Security            Networking   \n",
       "7                                                 CIO  Information Security   \n",
       "8                           Director Cloud Operations            IT General   \n",
       "9                   Director, Enterprise Applications            Networking   \n",
       "10                 Chief Information Security Officer  Information Security   \n",
       "11                        Information Risk Consultant  Information Security   \n",
       "12  Senior Vice President of Business Shared Services               Systems   \n",
       "13                        Manager, Technical Services               Systems   \n",
       "14                         Branch Manager, Purchasing        None Technical   \n",
       "15                              Systems Administrator  Information Security   \n",
       "16  Chief Information Security Officer (Raytheon I...  Information Security   \n",
       "17                                                CIO  Information Security   \n",
       "18                       Legislative Affairs Director        None Technical   \n",
       "19          Manager, Information Systems Applications  Information Security   \n",
       "\n",
       "   Job Function    Job Level  \n",
       "0            IT      Manager  \n",
       "1            IT      Manager  \n",
       "2   Engineering  Contributor  \n",
       "3            IT  Contributor  \n",
       "4            IT     Director  \n",
       "5            IT  Contributor  \n",
       "6            IT     Director  \n",
       "7            IT      C-Level  \n",
       "8            IT     Director  \n",
       "9            IT     Director  \n",
       "10           IT      C-Level  \n",
       "11           IT  Contributor  \n",
       "12           IT    Executive  \n",
       "13           IT      Manager  \n",
       "14   Purchasing      Manager  \n",
       "15           IT  Contributor  \n",
       "16           IT      C-Level  \n",
       "17           IT      C-Level  \n",
       "18        Legal     Director  \n",
       "19           IT      Manager  "
      ]
     },
     "execution_count": 2,
     "metadata": {},
     "output_type": "execute_result"
    }
   ],
   "source": [
    "original_data = pd.read_csv(\"../Data/Historical Lead Records - Condensed.csv\",\n",
    "                        encoding=\"utf-8\")\n",
    "# Need encoding change for weird characters to come through\n",
    "lead_data = original_data.copy()\n",
    "lead_data.head(20)"
   ]
  },
  {
   "cell_type": "markdown",
   "metadata": {},
   "source": [
    "Dimensions of data"
   ]
  },
  {
   "cell_type": "code",
   "execution_count": 3,
   "metadata": {},
   "outputs": [
    {
     "data": {
      "text/plain": [
       "(865671, 4)"
      ]
     },
     "execution_count": 3,
     "metadata": {},
     "output_type": "execute_result"
    }
   ],
   "source": [
    "lead_data.shape"
   ]
  },
  {
   "cell_type": "markdown",
   "metadata": {},
   "source": [
    "Unique values count"
   ]
  },
  {
   "cell_type": "code",
   "execution_count": 4,
   "metadata": {},
   "outputs": [
    {
     "data": {
      "text/plain": [
       "Title           186749\n",
       "Job Role            35\n",
       "Job Function        52\n",
       "Job Level           28\n",
       "dtype: int64"
      ]
     },
     "execution_count": 4,
     "metadata": {},
     "output_type": "execute_result"
    }
   ],
   "source": [
    "lead_data.nunique()"
   ]
  },
  {
   "cell_type": "markdown",
   "metadata": {},
   "source": [
    "Detailed summary"
   ]
  },
  {
   "cell_type": "code",
   "execution_count": 5,
   "metadata": {},
   "outputs": [
    {
     "data": {
      "text/plain": [
       "Job Role\n",
       "Information Security                      266133\n",
       "Networking                                207794\n",
       "None Technical                            160988\n",
       "Development                                82228\n",
       "IT General                                 69190\n",
       "Governance Risk Compliance                 20438\n",
       "Program Management                         10057\n",
       "Help Desk                                   8709\n",
       "Non-IT                                      8280\n",
       "Business Systems                            8225\n",
       "Systems                                     7882\n",
       "Operations                                  4851\n",
       "Data                                        3531\n",
       "Communications                              1353\n",
       "Integration                                  563\n",
       "IT Facilities                                493\n",
       "Vendor Management                            187\n",
       "Training                                     130\n",
       "Business Continuity                           80\n",
       "SVP                                           12\n",
       "Security                                       8\n",
       "CEO                                            7\n",
       "Founder And CEO                                6\n",
       "Chief Executive Officer & President            4\n",
       "Executive                                      4\n",
       "Manager, AD Systems                            3\n",
       "Other                                          3\n",
       "Senior Manager, Information Technology         2\n",
       "Senior Manager, Critical Facilities            2\n",
       "Netoworking                                    1\n",
       "information security                           1\n",
       "Customer-facing role                           1\n",
       "IT                                             1\n",
       "Sales                                          1\n",
       "Lead Data Engineer                             1\n",
       "Name: count, dtype: int64"
      ]
     },
     "execution_count": 5,
     "metadata": {},
     "output_type": "execute_result"
    },
    {
     "data": {
      "text/plain": [
       "Job Function\n",
       "IT                                                                                                                     602920\n",
       "Engineering                                                                                                             80429\n",
       "Sales                                                                                                                   35541\n",
       "Management                                                                                                              32222\n",
       "Unknown                                                                                                                 31296\n",
       "Support                                                                                                                 16457\n",
       "Operations                                                                                                              12870\n",
       "Finance                                                                                                                 10724\n",
       "Marketing                                                                                                               10550\n",
       "Services                                                                                                                 5270\n",
       "Education                                                                                                                3056\n",
       "Public Sector                                                                                                            2913\n",
       "Human Resource                                                                                                           2788\n",
       "Other                                                                                                                    2624\n",
       "Administration                                                                                                           1985\n",
       "Corporate                                                                                                                1920\n",
       "Legal                                                                                                                    1614\n",
       "Facilities                                                                                                               1535\n",
       "Purchasing                                                                                                               1287\n",
       "Medical                                                                                                                  1266\n",
       "Procurement                                                                                                              1241\n",
       "Information Security                                                                                                       11\n",
       "Engineering & Technical                                                                                                     6\n",
       "IT - Security                                                                                                               6\n",
       "IT - Network                                                                                                                6\n",
       "Field Marketing                                                                                                             5\n",
       "Enterprise Architecture                                                                                                     5\n",
       "Information Technology                                                                                                      5\n",
       "Marketing Operations                                                                                                        3\n",
       "Privacy                                                                                                                     3\n",
       "Field / Outside Sales                                                                                                       3\n",
       "Financial Planning & Analysis                                                                                               3\n",
       "Infrastructure                                                                                                              2\n",
       "Support / Technical Services                                                                                                2\n",
       "Software Development                                                                                                        2\n",
       "Risk, Legal Operations                                                                                                      2\n",
       "IT Operations                                                                                                               1\n",
       "Help Desk / Desktop Services                                                                                                1\n",
       "Digital Transformation, Information Technology Executive, Information Technology, Engineering & Technical Executive         1\n",
       "Governmental Affairs & Regulatory Law                                                                                       1\n",
       "Lawyer / Attorney                                                                                                           1\n",
       "Customer Service / Support                                                                                                  1\n",
       "Recruiting & Talent Acquisition                                                                                             1\n",
       "Application Development                                                                                                     1\n",
       "Project Management                                                                                                          1\n",
       "Epidemiology                                                                                                                1\n",
       "Account Management                                                                                                          1\n",
       "Executive                                                                                                                   1\n",
       "Test / Quality Assurance                                                                                                    1\n",
       "Operations Executive, Operations                                                                                            1\n",
       "IT Audit / IT Compliance                                                                                                    1\n",
       "Emerging Technology / Innovation                                                                                            1\n",
       "Name: count, dtype: int64"
      ]
     },
     "execution_count": 5,
     "metadata": {},
     "output_type": "execute_result"
    },
    {
     "data": {
      "text/plain": [
       "Job Level\n",
       "Contributor                              306530\n",
       "Manager                                  175443\n",
       "Director                                 143140\n",
       "Executive                                109596\n",
       "C-Level                                   97370\n",
       "Unknown                                    5495\n",
       "Non-Manager                                2768\n",
       "VP-Level                                    298\n",
       "Team Lead                                   154\n",
       "VP/Director                                 107\n",
       "Engineer/Admin                               68\n",
       "C-level                                      54\n",
       "CxO                                          38\n",
       "Decision maker                               16\n",
       "contributor                                  10\n",
       "Director Level                                9\n",
       "VP                                            8\n",
       "Director / C-Level                            7\n",
       "Member of Technical Staff 2                   2\n",
       "Individual Contributor                        2\n",
       "C-suite                                       2\n",
       "contribtuor                                   2\n",
       "Other                                         1\n",
       "Engineer                                      1\n",
       "Management                                    1\n",
       "Director of Enterprise Cloud Business         1\n",
       "Admin                                         1\n",
       "Security Analyst                              1\n",
       "Name: count, dtype: int64"
      ]
     },
     "execution_count": 5,
     "metadata": {},
     "output_type": "execute_result"
    }
   ],
   "source": [
    "pd.set_option('display.max_rows',100)\n",
    "for col in lead_data.drop('Title',axis = 1):\n",
    "    lead_data[col].value_counts()"
   ]
  },
  {
   "cell_type": "code",
   "execution_count": 6,
   "metadata": {},
   "outputs": [
    {
     "data": {
      "text/plain": [
       "Job Role\n",
       "Information Security                      0.309037\n",
       "Networking                                0.241293\n",
       "None Technical                            0.186941\n",
       "Development                               0.095484\n",
       "IT General                                0.080344\n",
       "Governance Risk Compliance                0.023733\n",
       "Program Management                        0.011678\n",
       "Help Desk                                 0.010113\n",
       "Non-IT                                    0.009615\n",
       "Business Systems                          0.009551\n",
       "Systems                                   0.009153\n",
       "Operations                                0.005633\n",
       "Data                                      0.004100\n",
       "Communications                            0.001571\n",
       "Integration                               0.000654\n",
       "IT Facilities                             0.000572\n",
       "Vendor Management                         0.000217\n",
       "Training                                  0.000151\n",
       "Business Continuity                       0.000093\n",
       "SVP                                       0.000014\n",
       "Security                                  0.000009\n",
       "CEO                                       0.000008\n",
       "Founder And CEO                           0.000007\n",
       "Chief Executive Officer & President       0.000005\n",
       "Executive                                 0.000005\n",
       "Manager, AD Systems                       0.000003\n",
       "Other                                     0.000003\n",
       "Senior Manager, Information Technology    0.000002\n",
       "Senior Manager, Critical Facilities       0.000002\n",
       "Netoworking                               0.000001\n",
       "information security                      0.000001\n",
       "Customer-facing role                      0.000001\n",
       "IT                                        0.000001\n",
       "Sales                                     0.000001\n",
       "Lead Data Engineer                        0.000001\n",
       "Name: proportion, dtype: float64"
      ]
     },
     "execution_count": 6,
     "metadata": {},
     "output_type": "execute_result"
    },
    {
     "data": {
      "text/plain": [
       "0.9130995193742459"
      ]
     },
     "execution_count": 6,
     "metadata": {},
     "output_type": "execute_result"
    },
    {
     "data": {
      "text/plain": [
       "Job Function\n",
       "IT                                                                                                                     0.700591\n",
       "Engineering                                                                                                            0.093458\n",
       "Sales                                                                                                                  0.041299\n",
       "Management                                                                                                             0.037442\n",
       "Unknown                                                                                                                0.036366\n",
       "Support                                                                                                                0.019123\n",
       "Operations                                                                                                             0.014955\n",
       "Finance                                                                                                                0.012461\n",
       "Marketing                                                                                                              0.012259\n",
       "Services                                                                                                               0.006124\n",
       "Education                                                                                                              0.003551\n",
       "Public Sector                                                                                                          0.003385\n",
       "Human Resource                                                                                                         0.003240\n",
       "Other                                                                                                                  0.003049\n",
       "Administration                                                                                                         0.002307\n",
       "Corporate                                                                                                              0.002231\n",
       "Legal                                                                                                                  0.001875\n",
       "Facilities                                                                                                             0.001784\n",
       "Purchasing                                                                                                             0.001495\n",
       "Medical                                                                                                                0.001471\n",
       "Procurement                                                                                                            0.001442\n",
       "Information Security                                                                                                   0.000013\n",
       "Engineering & Technical                                                                                                0.000007\n",
       "IT - Security                                                                                                          0.000007\n",
       "IT - Network                                                                                                           0.000007\n",
       "Field Marketing                                                                                                        0.000006\n",
       "Enterprise Architecture                                                                                                0.000006\n",
       "Information Technology                                                                                                 0.000006\n",
       "Marketing Operations                                                                                                   0.000003\n",
       "Privacy                                                                                                                0.000003\n",
       "Field / Outside Sales                                                                                                  0.000003\n",
       "Financial Planning & Analysis                                                                                          0.000003\n",
       "Infrastructure                                                                                                         0.000002\n",
       "Support / Technical Services                                                                                           0.000002\n",
       "Software Development                                                                                                   0.000002\n",
       "Risk, Legal Operations                                                                                                 0.000002\n",
       "IT Operations                                                                                                          0.000001\n",
       "Help Desk / Desktop Services                                                                                           0.000001\n",
       "Digital Transformation, Information Technology Executive, Information Technology, Engineering & Technical Executive    0.000001\n",
       "Governmental Affairs & Regulatory Law                                                                                  0.000001\n",
       "Lawyer / Attorney                                                                                                      0.000001\n",
       "Customer Service / Support                                                                                             0.000001\n",
       "Recruiting & Talent Acquisition                                                                                        0.000001\n",
       "Application Development                                                                                                0.000001\n",
       "Project Management                                                                                                     0.000001\n",
       "Epidemiology                                                                                                           0.000001\n",
       "Account Management                                                                                                     0.000001\n",
       "Executive                                                                                                              0.000001\n",
       "Test / Quality Assurance                                                                                               0.000001\n",
       "Operations Executive, Operations                                                                                       0.000001\n",
       "IT Audit / IT Compliance                                                                                               0.000001\n",
       "Emerging Technology / Innovation                                                                                       0.000001\n",
       "Name: proportion, dtype: float64"
      ]
     },
     "execution_count": 6,
     "metadata": {},
     "output_type": "execute_result"
    },
    {
     "data": {
      "text/plain": [
       "0.9091551357908779"
      ]
     },
     "execution_count": 6,
     "metadata": {},
     "output_type": "execute_result"
    },
    {
     "data": {
      "text/plain": [
       "Job Level\n",
       "Contributor                              0.364429\n",
       "Manager                                  0.208581\n",
       "Director                                 0.170177\n",
       "Executive                                0.130297\n",
       "C-Level                                  0.115762\n",
       "Unknown                                  0.006533\n",
       "Non-Manager                              0.003291\n",
       "VP-Level                                 0.000354\n",
       "Team Lead                                0.000183\n",
       "VP/Director                              0.000127\n",
       "Engineer/Admin                           0.000081\n",
       "C-level                                  0.000064\n",
       "CxO                                      0.000045\n",
       "Decision maker                           0.000019\n",
       "contributor                              0.000012\n",
       "Director Level                           0.000011\n",
       "VP                                       0.000010\n",
       "Director / C-Level                       0.000008\n",
       "Member of Technical Staff 2              0.000002\n",
       "Individual Contributor                   0.000002\n",
       "C-suite                                  0.000002\n",
       "contribtuor                              0.000002\n",
       "Other                                    0.000001\n",
       "Engineer                                 0.000001\n",
       "Management                               0.000001\n",
       "Director of Enterprise Cloud Business    0.000001\n",
       "Admin                                    0.000001\n",
       "Security Analyst                         0.000001\n",
       "Name: proportion, dtype: float64"
      ]
     },
     "execution_count": 6,
     "metadata": {},
     "output_type": "execute_result"
    },
    {
     "data": {
      "text/plain": [
       "0.989245355922128"
      ]
     },
     "execution_count": 6,
     "metadata": {},
     "output_type": "execute_result"
    }
   ],
   "source": [
    "pd.set_option('display.max_rows',100)\n",
    "for col in lead_data.drop('Title',axis = 1):\n",
    "    temp = lead_data[col].value_counts(normalize=True)\n",
    "    temp\n",
    "    temp.iloc[0:5].sum()"
   ]
  },
  {
   "cell_type": "markdown",
   "metadata": {},
   "source": [
    "A few directives to clean this data:\n",
    "\n",
    "1. Job roles to remain - Information Security (group in 'INformation Security', 'information security'), Networking (group in 'Netoworking'), IT General (group in 'IT Facilities', 'IT', 'Senior Manager, Information Technology'), Development, Systems (Group in 'Business Systems'), Governance Risk Compliance (not indicated but there are a significant number of them, group in 'Senior Manager, Security, Risk, and Compliance', 'IT/IS Compliance/Risk/Control Staff'); everything else will flow through as Non-ICP\n",
    "2. Job functions to remain - IT (group in 'Information Technology','IT - Security','IT - Network','Information Security, Information Technology','IT Operations','IT-Sec Admin','Director Global IT','Information Security, Information Technology, Enterprise Architecture','It','Information Technology, Information Technology Executive'), Engineering (include 'Engineering & Technical','Engineer SASE'), Procurement (group in 'Purchasing','Sourcing / Procurement'), Risk/Legal/Compliance (include 'Legal','Risk, Legal Operations','Lawyer / Attorney','Governmental Affairs & Regulatory Law')\n",
    "3. Job levels to remain - Contributor (include 'Individual Contributor','contributor','contribtuor'), Manager (include 'Management','Manager Level','manager','Threat Hunting Manager','IT Security Manager'), Executive (include 'Senior Executive','Exec.'), Director (include 'Director Level','IT Infrastructure Director','Director of Enterprise Cloud Business','IT Security Director'), C-Level (group in 'C-level','CxO','C level','C-suite','Director (It & Project) & Chief Information Security Officer','C Level')"
   ]
  },
  {
   "cell_type": "markdown",
   "metadata": {},
   "source": [
    "Number of rows where any one of the outputs are NA"
   ]
  },
  {
   "cell_type": "code",
   "execution_count": 7,
   "metadata": {},
   "outputs": [
    {
     "data": {
      "text/plain": [
       "29420"
      ]
     },
     "execution_count": 7,
     "metadata": {},
     "output_type": "execute_result"
    },
    {
     "data": {
      "text/plain": [
       "0.03398519760971547"
      ]
     },
     "execution_count": 7,
     "metadata": {},
     "output_type": "execute_result"
    }
   ],
   "source": [
    "(lead_data['Job Role'].isna()|lead_data['Job Function'].isna()|lead_data['Job Level'].isna()).sum()\n",
    "(lead_data['Job Role'].isna()|lead_data['Job Function'].isna()|lead_data['Job Level'].isna()).sum()/lead_data.shape[0]"
   ]
  },
  {
   "cell_type": "markdown",
   "metadata": {},
   "source": [
    "To make modeling easier, it might be acceptable to drop this 3% of the data. Now let's see the number of distinct words in the job title field. Need to filter out NaNs."
   ]
  },
  {
   "cell_type": "code",
   "execution_count": 8,
   "metadata": {},
   "outputs": [
    {
     "data": {
      "text/plain": [
       "12690"
      ]
     },
     "execution_count": 8,
     "metadata": {},
     "output_type": "execute_result"
    },
    {
     "data": {
      "text/plain": [
       "0.01465914879902411"
      ]
     },
     "execution_count": 8,
     "metadata": {},
     "output_type": "execute_result"
    }
   ],
   "source": [
    "lead_data['Title'].isna().sum()\n",
    "lead_data['Title'].isna().sum()/lead_data.shape[0]"
   ]
  },
  {
   "cell_type": "code",
   "execution_count": 9,
   "metadata": {},
   "outputs": [
    {
     "data": {
      "text/plain": [
       "31727"
      ]
     },
     "execution_count": 9,
     "metadata": {},
     "output_type": "execute_result"
    },
    {
     "data": {
      "text/plain": [
       "0.0366501823441007"
      ]
     },
     "execution_count": 9,
     "metadata": {},
     "output_type": "execute_result"
    }
   ],
   "source": [
    "(lead_data['Job Role'].isna()|lead_data['Job Function'].isna()|lead_data['Job Level'].isna()|lead_data['Title'].isna()).sum()\n",
    "(lead_data['Job Role'].isna()|lead_data['Job Function'].isna()|lead_data['Job Level'].isna()|lead_data['Title'].isna()).sum()/lead_data.shape[0]"
   ]
  },
  {
   "cell_type": "markdown",
   "metadata": {},
   "source": [
    "Nearly 32K NAs, which is about 4% of the data."
   ]
  },
  {
   "cell_type": "code",
   "execution_count": 10,
   "metadata": {},
   "outputs": [],
   "source": [
    "words_series = lead_data['Title'].loc[~lead_data['Title'].isna()].str.lower().str.split().tolist()\n",
    "words_list = [word for title in words_series for word in title]"
   ]
  },
  {
   "cell_type": "markdown",
   "metadata": {},
   "source": [
    "Unique number of words"
   ]
  },
  {
   "cell_type": "code",
   "execution_count": 11,
   "metadata": {},
   "outputs": [
    {
     "data": {
      "text/plain": [
       "31772"
      ]
     },
     "execution_count": 11,
     "metadata": {},
     "output_type": "execute_result"
    }
   ],
   "source": [
    "words_set = set(words_list)\n",
    "len(words_set)"
   ]
  },
  {
   "cell_type": "markdown",
   "metadata": {},
   "source": [
    "Remove stopwords"
   ]
  },
  {
   "cell_type": "code",
   "execution_count": 12,
   "metadata": {},
   "outputs": [
    {
     "name": "stderr",
     "output_type": "stream",
     "text": [
      "[nltk_data] Downloading package stopwords to\n",
      "[nltk_data]     C:\\Users\\csarc\\AppData\\Roaming\\nltk_data...\n",
      "[nltk_data]   Package stopwords is already up-to-date!\n"
     ]
    },
    {
     "data": {
      "text/plain": [
       "True"
      ]
     },
     "execution_count": 12,
     "metadata": {},
     "output_type": "execute_result"
    }
   ],
   "source": [
    "nltk.download('stopwords')\n",
    "stop_words = set(stopwords.words('english'))"
   ]
  },
  {
   "cell_type": "code",
   "execution_count": 13,
   "metadata": {},
   "outputs": [
    {
     "data": {
      "text/plain": [
       "31669"
      ]
     },
     "execution_count": 13,
     "metadata": {},
     "output_type": "execute_result"
    }
   ],
   "source": [
    "len(words_set - stop_words)"
   ]
  },
  {
   "cell_type": "markdown",
   "metadata": {},
   "source": [
    "Not that many overlapping, so there's not really that much of an impact of removing stopwords. Thus, for the model, I won't even bother to do this."
   ]
  }
 ],
 "metadata": {
  "kernelspec": {
   "display_name": "netskope",
   "language": "python",
   "name": "python3"
  },
  "language_info": {
   "codemirror_mode": {
    "name": "ipython",
    "version": 3
   },
   "file_extension": ".py",
   "mimetype": "text/x-python",
   "name": "python",
   "nbconvert_exporter": "python",
   "pygments_lexer": "ipython3",
   "version": "3.12.1"
  }
 },
 "nbformat": 4,
 "nbformat_minor": 2
}
