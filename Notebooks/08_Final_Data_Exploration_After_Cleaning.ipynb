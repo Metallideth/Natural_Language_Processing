{
 "cells": [
  {
   "cell_type": "code",
   "execution_count": 1,
   "metadata": {},
   "outputs": [],
   "source": [
    "import pandas as pd\n",
    "import nltk\n",
    "from nltk.corpus import stopwords\n",
    "\n",
    "from IPython.core.interactiveshell import InteractiveShell\n",
    "InteractiveShell.ast_node_interactivity = \"all\""
   ]
  },
  {
   "cell_type": "markdown",
   "metadata": {},
   "source": [
    "Now we load in the data file."
   ]
  },
  {
   "cell_type": "code",
   "execution_count": 2,
   "metadata": {},
   "outputs": [
    {
     "data": {
      "text/html": [
       "<div>\n",
       "<style scoped>\n",
       "    .dataframe tbody tr th:only-of-type {\n",
       "        vertical-align: middle;\n",
       "    }\n",
       "\n",
       "    .dataframe tbody tr th {\n",
       "        vertical-align: top;\n",
       "    }\n",
       "\n",
       "    .dataframe thead th {\n",
       "        text-align: right;\n",
       "    }\n",
       "</style>\n",
       "<table border=\"1\" class=\"dataframe\">\n",
       "  <thead>\n",
       "    <tr style=\"text-align: right;\">\n",
       "      <th></th>\n",
       "      <th>Unnamed: 0</th>\n",
       "      <th>Title</th>\n",
       "      <th>Job Function</th>\n",
       "      <th>Job Role</th>\n",
       "      <th>Job Level</th>\n",
       "    </tr>\n",
       "  </thead>\n",
       "  <tbody>\n",
       "    <tr>\n",
       "      <th>0</th>\n",
       "      <td>0</td>\n",
       "      <td>MANAGER-CYBERSECURITY</td>\n",
       "      <td>IT</td>\n",
       "      <td>INFORMATION SECURITY</td>\n",
       "      <td>MANAGER</td>\n",
       "    </tr>\n",
       "    <tr>\n",
       "      <th>1</th>\n",
       "      <td>1</td>\n",
       "      <td>MANAGER, INFORMATION SECURITY</td>\n",
       "      <td>IT</td>\n",
       "      <td>INFORMATION SECURITY</td>\n",
       "      <td>MANAGER</td>\n",
       "    </tr>\n",
       "    <tr>\n",
       "      <th>2</th>\n",
       "      <td>2</td>\n",
       "      <td>USER EXPERIENCE ANALYST</td>\n",
       "      <td>ENGINEERING</td>\n",
       "      <td>DEVELOPMENT</td>\n",
       "      <td>CONTRIBUTOR</td>\n",
       "    </tr>\n",
       "    <tr>\n",
       "      <th>3</th>\n",
       "      <td>3</td>\n",
       "      <td>NETWORK SPECIALIST</td>\n",
       "      <td>IT</td>\n",
       "      <td>NETWORKING</td>\n",
       "      <td>CONTRIBUTOR</td>\n",
       "    </tr>\n",
       "    <tr>\n",
       "      <th>4</th>\n",
       "      <td>4</td>\n",
       "      <td>DIRECTOR OF PRIVACY AND COMPLIANCE</td>\n",
       "      <td>IT</td>\n",
       "      <td>INFORMATION SECURITY</td>\n",
       "      <td>DIRECTOR</td>\n",
       "    </tr>\n",
       "    <tr>\n",
       "      <th>5</th>\n",
       "      <td>5</td>\n",
       "      <td>ASSISTANT VP, NETWORK ARCHITECTURE CCIE 1676</td>\n",
       "      <td>IT</td>\n",
       "      <td>NETWORKING</td>\n",
       "      <td>CONTRIBUTOR</td>\n",
       "    </tr>\n",
       "    <tr>\n",
       "      <th>6</th>\n",
       "      <td>6</td>\n",
       "      <td>DIRECTOR, INFORMATION SECURITY</td>\n",
       "      <td>IT</td>\n",
       "      <td>NETWORKING</td>\n",
       "      <td>DIRECTOR</td>\n",
       "    </tr>\n",
       "    <tr>\n",
       "      <th>7</th>\n",
       "      <td>7</td>\n",
       "      <td>CIO</td>\n",
       "      <td>IT</td>\n",
       "      <td>INFORMATION SECURITY</td>\n",
       "      <td>C-LEVEL</td>\n",
       "    </tr>\n",
       "    <tr>\n",
       "      <th>8</th>\n",
       "      <td>8</td>\n",
       "      <td>DIRECTOR CLOUD OPERATIONS</td>\n",
       "      <td>IT</td>\n",
       "      <td>IT GENERAL</td>\n",
       "      <td>DIRECTOR</td>\n",
       "    </tr>\n",
       "    <tr>\n",
       "      <th>9</th>\n",
       "      <td>9</td>\n",
       "      <td>DIRECTOR, ENTERPRISE APPLICATIONS</td>\n",
       "      <td>IT</td>\n",
       "      <td>NETWORKING</td>\n",
       "      <td>DIRECTOR</td>\n",
       "    </tr>\n",
       "    <tr>\n",
       "      <th>10</th>\n",
       "      <td>10</td>\n",
       "      <td>CHIEF INFORMATION SECURITY OFFICER</td>\n",
       "      <td>IT</td>\n",
       "      <td>INFORMATION SECURITY</td>\n",
       "      <td>C-LEVEL</td>\n",
       "    </tr>\n",
       "    <tr>\n",
       "      <th>11</th>\n",
       "      <td>11</td>\n",
       "      <td>INFORMATION RISK CONSULTANT</td>\n",
       "      <td>IT</td>\n",
       "      <td>INFORMATION SECURITY</td>\n",
       "      <td>CONTRIBUTOR</td>\n",
       "    </tr>\n",
       "    <tr>\n",
       "      <th>12</th>\n",
       "      <td>12</td>\n",
       "      <td>SENIOR VICE PRESIDENT OF BUSINESS SHARED SERVICES</td>\n",
       "      <td>IT</td>\n",
       "      <td>SYSTEMS</td>\n",
       "      <td>EXECUTIVE</td>\n",
       "    </tr>\n",
       "    <tr>\n",
       "      <th>13</th>\n",
       "      <td>13</td>\n",
       "      <td>MANAGER, TECHNICAL SERVICES</td>\n",
       "      <td>IT</td>\n",
       "      <td>IT GENERAL</td>\n",
       "      <td>MANAGER</td>\n",
       "    </tr>\n",
       "    <tr>\n",
       "      <th>14</th>\n",
       "      <td>14</td>\n",
       "      <td>BRANCH MANAGER, PURCHASING</td>\n",
       "      <td>PROCUREMENT</td>\n",
       "      <td>NON-ICP</td>\n",
       "      <td>MANAGER</td>\n",
       "    </tr>\n",
       "    <tr>\n",
       "      <th>15</th>\n",
       "      <td>15</td>\n",
       "      <td>SYSTEMS ADMINISTRATOR</td>\n",
       "      <td>IT</td>\n",
       "      <td>INFORMATION SECURITY</td>\n",
       "      <td>CONTRIBUTOR</td>\n",
       "    </tr>\n",
       "    <tr>\n",
       "      <th>16</th>\n",
       "      <td>16</td>\n",
       "      <td>CHIEF INFORMATION SECURITY OFFICER (RAYTHEON I...</td>\n",
       "      <td>IT</td>\n",
       "      <td>INFORMATION SECURITY</td>\n",
       "      <td>C-LEVEL</td>\n",
       "    </tr>\n",
       "    <tr>\n",
       "      <th>17</th>\n",
       "      <td>17</td>\n",
       "      <td>CIO</td>\n",
       "      <td>IT</td>\n",
       "      <td>INFORMATION SECURITY</td>\n",
       "      <td>C-LEVEL</td>\n",
       "    </tr>\n",
       "    <tr>\n",
       "      <th>18</th>\n",
       "      <td>18</td>\n",
       "      <td>LEGISLATIVE AFFAIRS DIRECTOR</td>\n",
       "      <td>RISK/LEGAL/COMPLIANCE</td>\n",
       "      <td>NON-ICP</td>\n",
       "      <td>DIRECTOR</td>\n",
       "    </tr>\n",
       "    <tr>\n",
       "      <th>19</th>\n",
       "      <td>19</td>\n",
       "      <td>MANAGER, INFORMATION SYSTEMS APPLICATIONS</td>\n",
       "      <td>IT</td>\n",
       "      <td>IT GENERAL</td>\n",
       "      <td>MANAGER</td>\n",
       "    </tr>\n",
       "  </tbody>\n",
       "</table>\n",
       "</div>"
      ],
      "text/plain": [
       "    Unnamed: 0                                              Title  \\\n",
       "0            0                              MANAGER-CYBERSECURITY   \n",
       "1            1                      MANAGER, INFORMATION SECURITY   \n",
       "2            2                            USER EXPERIENCE ANALYST   \n",
       "3            3                                 NETWORK SPECIALIST   \n",
       "4            4                 DIRECTOR OF PRIVACY AND COMPLIANCE   \n",
       "5            5       ASSISTANT VP, NETWORK ARCHITECTURE CCIE 1676   \n",
       "6            6                     DIRECTOR, INFORMATION SECURITY   \n",
       "7            7                                                CIO   \n",
       "8            8                          DIRECTOR CLOUD OPERATIONS   \n",
       "9            9                  DIRECTOR, ENTERPRISE APPLICATIONS   \n",
       "10          10                 CHIEF INFORMATION SECURITY OFFICER   \n",
       "11          11                        INFORMATION RISK CONSULTANT   \n",
       "12          12  SENIOR VICE PRESIDENT OF BUSINESS SHARED SERVICES   \n",
       "13          13                        MANAGER, TECHNICAL SERVICES   \n",
       "14          14                         BRANCH MANAGER, PURCHASING   \n",
       "15          15                              SYSTEMS ADMINISTRATOR   \n",
       "16          16  CHIEF INFORMATION SECURITY OFFICER (RAYTHEON I...   \n",
       "17          17                                                CIO   \n",
       "18          18                       LEGISLATIVE AFFAIRS DIRECTOR   \n",
       "19          19          MANAGER, INFORMATION SYSTEMS APPLICATIONS   \n",
       "\n",
       "             Job Function              Job Role    Job Level  \n",
       "0                      IT  INFORMATION SECURITY      MANAGER  \n",
       "1                      IT  INFORMATION SECURITY      MANAGER  \n",
       "2             ENGINEERING           DEVELOPMENT  CONTRIBUTOR  \n",
       "3                      IT            NETWORKING  CONTRIBUTOR  \n",
       "4                      IT  INFORMATION SECURITY     DIRECTOR  \n",
       "5                      IT            NETWORKING  CONTRIBUTOR  \n",
       "6                      IT            NETWORKING     DIRECTOR  \n",
       "7                      IT  INFORMATION SECURITY      C-LEVEL  \n",
       "8                      IT            IT GENERAL     DIRECTOR  \n",
       "9                      IT            NETWORKING     DIRECTOR  \n",
       "10                     IT  INFORMATION SECURITY      C-LEVEL  \n",
       "11                     IT  INFORMATION SECURITY  CONTRIBUTOR  \n",
       "12                     IT               SYSTEMS    EXECUTIVE  \n",
       "13                     IT            IT GENERAL      MANAGER  \n",
       "14            PROCUREMENT               NON-ICP      MANAGER  \n",
       "15                     IT  INFORMATION SECURITY  CONTRIBUTOR  \n",
       "16                     IT  INFORMATION SECURITY      C-LEVEL  \n",
       "17                     IT  INFORMATION SECURITY      C-LEVEL  \n",
       "18  RISK/LEGAL/COMPLIANCE               NON-ICP     DIRECTOR  \n",
       "19                     IT            IT GENERAL      MANAGER  "
      ]
     },
     "execution_count": 2,
     "metadata": {},
     "output_type": "execute_result"
    }
   ],
   "source": [
    "original_data = pd.read_csv(\"../Data/lead_data.csv\",\n",
    "                        encoding=\"utf-8\")\n",
    "# Need encoding change for weird characters to come through\n",
    "lead_data = original_data.copy()\n",
    "lead_data.head(20)"
   ]
  },
  {
   "cell_type": "markdown",
   "metadata": {},
   "source": [
    "Dimensions of data"
   ]
  },
  {
   "cell_type": "code",
   "execution_count": 3,
   "metadata": {},
   "outputs": [
    {
     "data": {
      "text/plain": [
       "(837232, 5)"
      ]
     },
     "execution_count": 3,
     "metadata": {},
     "output_type": "execute_result"
    }
   ],
   "source": [
    "lead_data.shape"
   ]
  },
  {
   "cell_type": "markdown",
   "metadata": {},
   "source": [
    "Unique values count"
   ]
  },
  {
   "cell_type": "code",
   "execution_count": 4,
   "metadata": {},
   "outputs": [
    {
     "data": {
      "text/plain": [
       "Unnamed: 0      837232\n",
       "Title           170880\n",
       "Job Function         5\n",
       "Job Role             7\n",
       "Job Level            6\n",
       "dtype: int64"
      ]
     },
     "execution_count": 4,
     "metadata": {},
     "output_type": "execute_result"
    }
   ],
   "source": [
    "lead_data.nunique()"
   ]
  },
  {
   "cell_type": "markdown",
   "metadata": {},
   "source": [
    "Detailed summary"
   ]
  },
  {
   "cell_type": "code",
   "execution_count": 5,
   "metadata": {},
   "outputs": [
    {
     "data": {
      "text/plain": [
       "Unnamed: 0\n",
       "0         1\n",
       "558159    1\n",
       "558149    1\n",
       "558150    1\n",
       "558151    1\n",
       "         ..\n",
       "279079    1\n",
       "279080    1\n",
       "279081    1\n",
       "279082    1\n",
       "837231    1\n",
       "Name: count, Length: 837232, dtype: int64"
      ]
     },
     "execution_count": 5,
     "metadata": {},
     "output_type": "execute_result"
    },
    {
     "data": {
      "text/plain": [
       "Job Function\n",
       "IT                       592609\n",
       "NON-ICP                  161450\n",
       "ENGINEERING               79119\n",
       "PROCUREMENT                2486\n",
       "RISK/LEGAL/COMPLIANCE      1568\n",
       "Name: count, dtype: int64"
      ]
     },
     "execution_count": 5,
     "metadata": {},
     "output_type": "execute_result"
    },
    {
     "data": {
      "text/plain": [
       "Job Role\n",
       "INFORMATION SECURITY          272404\n",
       "NETWORKING                    216843\n",
       "NON-ICP                       186470\n",
       "DEVELOPMENT                    81663\n",
       "IT GENERAL                     45253\n",
       "GOVERNANCE RISK COMPLIANCE     20224\n",
       "SYSTEMS                        14375\n",
       "Name: count, dtype: int64"
      ]
     },
     "execution_count": 5,
     "metadata": {},
     "output_type": "execute_result"
    },
    {
     "data": {
      "text/plain": [
       "Job Level\n",
       "CONTRIBUTOR    309800\n",
       "MANAGER        174717\n",
       "DIRECTOR       142376\n",
       "EXECUTIVE      110363\n",
       "C-LEVEL         96681\n",
       "UNKNOWN          3295\n",
       "Name: count, dtype: int64"
      ]
     },
     "execution_count": 5,
     "metadata": {},
     "output_type": "execute_result"
    }
   ],
   "source": [
    "pd.set_option('display.max_rows',100)\n",
    "for col in lead_data.drop('Title',axis = 1):\n",
    "    lead_data[col].value_counts()"
   ]
  },
  {
   "cell_type": "code",
   "execution_count": 6,
   "metadata": {},
   "outputs": [
    {
     "data": {
      "text/plain": [
       "Unnamed: 0\n",
       "0         0.000001\n",
       "558159    0.000001\n",
       "558149    0.000001\n",
       "558150    0.000001\n",
       "558151    0.000001\n",
       "            ...   \n",
       "279079    0.000001\n",
       "279080    0.000001\n",
       "279081    0.000001\n",
       "279082    0.000001\n",
       "837231    0.000001\n",
       "Name: proportion, Length: 837232, dtype: float64"
      ]
     },
     "execution_count": 6,
     "metadata": {},
     "output_type": "execute_result"
    },
    {
     "data": {
      "text/plain": [
       "5.972060313031513e-06"
      ]
     },
     "execution_count": 6,
     "metadata": {},
     "output_type": "execute_result"
    },
    {
     "data": {
      "text/plain": [
       "Job Function\n",
       "IT                       0.707819\n",
       "NON-ICP                  0.192838\n",
       "ENGINEERING              0.094501\n",
       "PROCUREMENT              0.002969\n",
       "RISK/LEGAL/COMPLIANCE    0.001873\n",
       "Name: proportion, dtype: float64"
      ]
     },
     "execution_count": 6,
     "metadata": {},
     "output_type": "execute_result"
    },
    {
     "data": {
      "text/plain": [
       "1.0"
      ]
     },
     "execution_count": 6,
     "metadata": {},
     "output_type": "execute_result"
    },
    {
     "data": {
      "text/plain": [
       "Job Role\n",
       "INFORMATION SECURITY          0.325363\n",
       "NETWORKING                    0.259000\n",
       "NON-ICP                       0.222722\n",
       "DEVELOPMENT                   0.097539\n",
       "IT GENERAL                    0.054051\n",
       "GOVERNANCE RISK COMPLIANCE    0.024156\n",
       "SYSTEMS                       0.017170\n",
       "Name: proportion, dtype: float64"
      ]
     },
     "execution_count": 6,
     "metadata": {},
     "output_type": "execute_result"
    },
    {
     "data": {
      "text/plain": [
       "0.9586745370458846"
      ]
     },
     "execution_count": 6,
     "metadata": {},
     "output_type": "execute_result"
    },
    {
     "data": {
      "text/plain": [
       "Job Level\n",
       "CONTRIBUTOR    0.370029\n",
       "MANAGER        0.208684\n",
       "DIRECTOR       0.170056\n",
       "EXECUTIVE      0.131819\n",
       "C-LEVEL        0.115477\n",
       "UNKNOWN        0.003936\n",
       "Name: proportion, dtype: float64"
      ]
     },
     "execution_count": 6,
     "metadata": {},
     "output_type": "execute_result"
    },
    {
     "data": {
      "text/plain": [
       "0.9960644122537122"
      ]
     },
     "execution_count": 6,
     "metadata": {},
     "output_type": "execute_result"
    }
   ],
   "source": [
    "pd.set_option('display.max_rows',100)\n",
    "for col in lead_data.drop('Title',axis = 1):\n",
    "    temp = lead_data[col].value_counts(normalize=True)\n",
    "    temp\n",
    "    temp.iloc[0:5].sum()"
   ]
  },
  {
   "cell_type": "markdown",
   "metadata": {},
   "source": [
    "Number of rows where any one of the outputs are NA"
   ]
  },
  {
   "cell_type": "code",
   "execution_count": 8,
   "metadata": {},
   "outputs": [
    {
     "data": {
      "text/plain": [
       "0"
      ]
     },
     "execution_count": 8,
     "metadata": {},
     "output_type": "execute_result"
    },
    {
     "data": {
      "text/plain": [
       "0.0"
      ]
     },
     "execution_count": 8,
     "metadata": {},
     "output_type": "execute_result"
    }
   ],
   "source": [
    "(lead_data['Job Role'].isna()|lead_data['Job Function'].isna()|lead_data['Job Level'].isna()|lead_data['Title'].isna()).sum()\n",
    "(lead_data['Job Role'].isna()|lead_data['Job Function'].isna()|lead_data['Job Level'].isna()|lead_data['Title'].isna()).sum()/lead_data.shape[0]"
   ]
  },
  {
   "cell_type": "code",
   "execution_count": 9,
   "metadata": {},
   "outputs": [],
   "source": [
    "words_series = lead_data['Title'].loc[~lead_data['Title'].isna()].str.lower().str.split().tolist()\n",
    "words_list = [word for title in words_series for word in title]"
   ]
  },
  {
   "cell_type": "markdown",
   "metadata": {},
   "source": [
    "Unique number of words"
   ]
  },
  {
   "cell_type": "code",
   "execution_count": 10,
   "metadata": {},
   "outputs": [
    {
     "data": {
      "text/plain": [
       "29279"
      ]
     },
     "execution_count": 10,
     "metadata": {},
     "output_type": "execute_result"
    }
   ],
   "source": [
    "words_set = set(words_list)\n",
    "len(words_set)"
   ]
  },
  {
   "cell_type": "markdown",
   "metadata": {},
   "source": [
    "Remove stopwords"
   ]
  },
  {
   "cell_type": "code",
   "execution_count": 11,
   "metadata": {},
   "outputs": [
    {
     "name": "stderr",
     "output_type": "stream",
     "text": [
      "[nltk_data] Downloading package stopwords to\n",
      "[nltk_data]     C:\\Users\\csarc\\AppData\\Roaming\\nltk_data...\n",
      "[nltk_data]   Package stopwords is already up-to-date!\n"
     ]
    },
    {
     "data": {
      "text/plain": [
       "True"
      ]
     },
     "execution_count": 11,
     "metadata": {},
     "output_type": "execute_result"
    }
   ],
   "source": [
    "nltk.download('stopwords')\n",
    "stop_words = set(stopwords.words('english'))"
   ]
  },
  {
   "cell_type": "code",
   "execution_count": 12,
   "metadata": {},
   "outputs": [
    {
     "data": {
      "text/plain": [
       "29190"
      ]
     },
     "execution_count": 12,
     "metadata": {},
     "output_type": "execute_result"
    }
   ],
   "source": [
    "len(words_set - stop_words)"
   ]
  },
  {
   "cell_type": "markdown",
   "metadata": {},
   "source": [
    "Not that many overlapping, so there's not really that much of an impact of removing stopwords. Thus, for the model, I won't even bother to do this."
   ]
  },
  {
   "cell_type": "code",
   "execution_count": 13,
   "metadata": {},
   "outputs": [
    {
     "data": {
      "text/plain": [
       "2"
      ]
     },
     "execution_count": 13,
     "metadata": {},
     "output_type": "execute_result"
    },
    {
     "data": {
      "text/plain": [
       "1566"
      ]
     },
     "execution_count": 13,
     "metadata": {},
     "output_type": "execute_result"
    },
    {
     "data": {
      "text/plain": [
       "20222"
      ]
     },
     "execution_count": 13,
     "metadata": {},
     "output_type": "execute_result"
    },
    {
     "data": {
      "text/plain": [
       "21790"
      ]
     },
     "execution_count": 13,
     "metadata": {},
     "output_type": "execute_result"
    }
   ],
   "source": [
    "# Overlapping compliance\n",
    "((lead_data['Job Function'] == 'RISK/LEGAL/COMPLIANCE') & (lead_data['Job Role'] == \"GOVERNANCE RISK COMPLIANCE\")).sum()\n",
    "((lead_data['Job Function'] == 'RISK/LEGAL/COMPLIANCE') & (lead_data['Job Role'] != \"GOVERNANCE RISK COMPLIANCE\")).sum()\n",
    "((lead_data['Job Function'] != 'RISK/LEGAL/COMPLIANCE') & (lead_data['Job Role'] == \"GOVERNANCE RISK COMPLIANCE\")).sum()\n",
    "((lead_data['Job Function'] == 'RISK/LEGAL/COMPLIANCE') | (lead_data['Job Role'] == \"GOVERNANCE RISK COMPLIANCE\")).sum()"
   ]
  },
  {
   "cell_type": "code",
   "execution_count": 14,
   "metadata": {},
   "outputs": [
    {
     "data": {
      "text/plain": [
       "27097"
      ]
     },
     "execution_count": 14,
     "metadata": {},
     "output_type": "execute_result"
    },
    {
     "data": {
      "text/plain": [
       "565512"
      ]
     },
     "execution_count": 14,
     "metadata": {},
     "output_type": "execute_result"
    },
    {
     "data": {
      "text/plain": [
       "592609"
      ]
     },
     "execution_count": 14,
     "metadata": {},
     "output_type": "execute_result"
    }
   ],
   "source": [
    "# Function = IT but Role = NON-ICP\n",
    "((lead_data['Job Function'] == 'IT') & (lead_data['Job Role'] == \"NON-ICP\")).sum()\n",
    "((lead_data['Job Function'] == 'IT') & (lead_data['Job Role'] != \"NON-ICP\")).sum()\n",
    "((lead_data['Job Function'] == 'IT')).sum()"
   ]
  }
 ],
 "metadata": {
  "kernelspec": {
   "display_name": "netskope",
   "language": "python",
   "name": "python3"
  },
  "language_info": {
   "codemirror_mode": {
    "name": "ipython",
    "version": 3
   },
   "file_extension": ".py",
   "mimetype": "text/x-python",
   "name": "python",
   "nbconvert_exporter": "python",
   "pygments_lexer": "ipython3",
   "version": "3.12.1"
  }
 },
 "nbformat": 4,
 "nbformat_minor": 2
}
