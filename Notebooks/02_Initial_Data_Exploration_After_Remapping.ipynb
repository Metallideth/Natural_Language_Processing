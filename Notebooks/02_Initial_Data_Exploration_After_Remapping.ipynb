{
 "cells": [
  {
   "cell_type": "code",
   "execution_count": 45,
   "metadata": {},
   "outputs": [],
   "source": [
    "import pandas as pd\n",
    "import numpy as np\n",
    "import nltk\n",
    "from nltk.corpus import stopwords\n",
    "import pickle\n",
    "\n",
    "from IPython.core.interactiveshell import InteractiveShell\n",
    "InteractiveShell.ast_node_interactivity = \"all\""
   ]
  },
  {
   "cell_type": "markdown",
   "metadata": {},
   "source": [
    "Now we load in the data file."
   ]
  },
  {
   "cell_type": "code",
   "execution_count": 47,
   "metadata": {},
   "outputs": [
    {
     "data": {
      "text/html": [
       "<div>\n",
       "<style scoped>\n",
       "    .dataframe tbody tr th:only-of-type {\n",
       "        vertical-align: middle;\n",
       "    }\n",
       "\n",
       "    .dataframe tbody tr th {\n",
       "        vertical-align: top;\n",
       "    }\n",
       "\n",
       "    .dataframe thead th {\n",
       "        text-align: right;\n",
       "    }\n",
       "</style>\n",
       "<table border=\"1\" class=\"dataframe\">\n",
       "  <thead>\n",
       "    <tr style=\"text-align: right;\">\n",
       "      <th></th>\n",
       "      <th>Title</th>\n",
       "      <th>Job Function</th>\n",
       "      <th>Job Role</th>\n",
       "      <th>Job Level</th>\n",
       "    </tr>\n",
       "  </thead>\n",
       "  <tbody>\n",
       "    <tr>\n",
       "      <th>0</th>\n",
       "      <td>MANAGER-CYBERSECURITY</td>\n",
       "      <td>IT</td>\n",
       "      <td>INFORMATION SECURITY</td>\n",
       "      <td>MANAGER</td>\n",
       "    </tr>\n",
       "    <tr>\n",
       "      <th>1</th>\n",
       "      <td>MANAGER, INFORMATION SECURITY</td>\n",
       "      <td>IT</td>\n",
       "      <td>INFORMATION SECURITY</td>\n",
       "      <td>MANAGER</td>\n",
       "    </tr>\n",
       "    <tr>\n",
       "      <th>2</th>\n",
       "      <td>USER EXPERIENCE ANALYST</td>\n",
       "      <td>ENGINEERING</td>\n",
       "      <td>DEVELOPMENT</td>\n",
       "      <td>CONTRIBUTOR</td>\n",
       "    </tr>\n",
       "    <tr>\n",
       "      <th>3</th>\n",
       "      <td>NETWORK SPECIALIST</td>\n",
       "      <td>IT</td>\n",
       "      <td>NETWORKING</td>\n",
       "      <td>CONTRIBUTOR</td>\n",
       "    </tr>\n",
       "    <tr>\n",
       "      <th>4</th>\n",
       "      <td>DIRECTOR OF PRIVACY AND COMPLIANCE</td>\n",
       "      <td>IT</td>\n",
       "      <td>INFORMATION SECURITY</td>\n",
       "      <td>DIRECTOR</td>\n",
       "    </tr>\n",
       "    <tr>\n",
       "      <th>5</th>\n",
       "      <td>ASSISTANT VP, NETWORK ARCHITECTURE CCIE 1676</td>\n",
       "      <td>IT</td>\n",
       "      <td>NETWORKING</td>\n",
       "      <td>CONTRIBUTOR</td>\n",
       "    </tr>\n",
       "    <tr>\n",
       "      <th>6</th>\n",
       "      <td>DIRECTOR, INFORMATION SECURITY</td>\n",
       "      <td>IT</td>\n",
       "      <td>NETWORKING</td>\n",
       "      <td>DIRECTOR</td>\n",
       "    </tr>\n",
       "    <tr>\n",
       "      <th>7</th>\n",
       "      <td>CIO</td>\n",
       "      <td>IT</td>\n",
       "      <td>INFORMATION SECURITY</td>\n",
       "      <td>C-LEVEL</td>\n",
       "    </tr>\n",
       "    <tr>\n",
       "      <th>8</th>\n",
       "      <td>DIRECTOR CLOUD OPERATIONS</td>\n",
       "      <td>IT</td>\n",
       "      <td>IT GENERAL</td>\n",
       "      <td>DIRECTOR</td>\n",
       "    </tr>\n",
       "    <tr>\n",
       "      <th>9</th>\n",
       "      <td>DIRECTOR, ENTERPRISE APPLICATIONS</td>\n",
       "      <td>IT</td>\n",
       "      <td>NETWORKING</td>\n",
       "      <td>DIRECTOR</td>\n",
       "    </tr>\n",
       "    <tr>\n",
       "      <th>10</th>\n",
       "      <td>CHIEF INFORMATION SECURITY OFFICER</td>\n",
       "      <td>IT</td>\n",
       "      <td>INFORMATION SECURITY</td>\n",
       "      <td>C-LEVEL</td>\n",
       "    </tr>\n",
       "    <tr>\n",
       "      <th>11</th>\n",
       "      <td>INFORMATION RISK CONSULTANT</td>\n",
       "      <td>IT</td>\n",
       "      <td>INFORMATION SECURITY</td>\n",
       "      <td>CONTRIBUTOR</td>\n",
       "    </tr>\n",
       "    <tr>\n",
       "      <th>12</th>\n",
       "      <td>SENIOR VICE PRESIDENT OF BUSINESS SHARED SERVICES</td>\n",
       "      <td>IT</td>\n",
       "      <td>SYSTEMS</td>\n",
       "      <td>EXECUTIVE</td>\n",
       "    </tr>\n",
       "    <tr>\n",
       "      <th>13</th>\n",
       "      <td>MANAGER, TECHNICAL SERVICES</td>\n",
       "      <td>IT</td>\n",
       "      <td>IT GENERAL</td>\n",
       "      <td>MANAGER</td>\n",
       "    </tr>\n",
       "    <tr>\n",
       "      <th>14</th>\n",
       "      <td>BRANCH MANAGER, PURCHASING</td>\n",
       "      <td>PURCHASING</td>\n",
       "      <td>NONE TECHNICAL</td>\n",
       "      <td>MANAGER</td>\n",
       "    </tr>\n",
       "    <tr>\n",
       "      <th>15</th>\n",
       "      <td>SYSTEMS ADMINISTRATOR</td>\n",
       "      <td>IT</td>\n",
       "      <td>INFORMATION SECURITY</td>\n",
       "      <td>CONTRIBUTOR</td>\n",
       "    </tr>\n",
       "    <tr>\n",
       "      <th>16</th>\n",
       "      <td>CHIEF INFORMATION SECURITY OFFICER (RAYTHEON I...</td>\n",
       "      <td>IT</td>\n",
       "      <td>INFORMATION SECURITY</td>\n",
       "      <td>C-LEVEL</td>\n",
       "    </tr>\n",
       "    <tr>\n",
       "      <th>17</th>\n",
       "      <td>CIO</td>\n",
       "      <td>IT</td>\n",
       "      <td>INFORMATION SECURITY</td>\n",
       "      <td>C-LEVEL</td>\n",
       "    </tr>\n",
       "    <tr>\n",
       "      <th>18</th>\n",
       "      <td>LEGISLATIVE AFFAIRS DIRECTOR</td>\n",
       "      <td>LEGAL</td>\n",
       "      <td>NONE TECHNICAL</td>\n",
       "      <td>DIRECTOR</td>\n",
       "    </tr>\n",
       "    <tr>\n",
       "      <th>19</th>\n",
       "      <td>MANAGER, INFORMATION SYSTEMS APPLICATIONS</td>\n",
       "      <td>IT</td>\n",
       "      <td>IT GENERAL</td>\n",
       "      <td>MANAGER</td>\n",
       "    </tr>\n",
       "  </tbody>\n",
       "</table>\n",
       "</div>"
      ],
      "text/plain": [
       "                                                Title Job Function  \\\n",
       "0                               MANAGER-CYBERSECURITY           IT   \n",
       "1                       MANAGER, INFORMATION SECURITY           IT   \n",
       "2                             USER EXPERIENCE ANALYST  ENGINEERING   \n",
       "3                                  NETWORK SPECIALIST           IT   \n",
       "4                  DIRECTOR OF PRIVACY AND COMPLIANCE           IT   \n",
       "5        ASSISTANT VP, NETWORK ARCHITECTURE CCIE 1676           IT   \n",
       "6                      DIRECTOR, INFORMATION SECURITY           IT   \n",
       "7                                                 CIO           IT   \n",
       "8                           DIRECTOR CLOUD OPERATIONS           IT   \n",
       "9                   DIRECTOR, ENTERPRISE APPLICATIONS           IT   \n",
       "10                 CHIEF INFORMATION SECURITY OFFICER           IT   \n",
       "11                        INFORMATION RISK CONSULTANT           IT   \n",
       "12  SENIOR VICE PRESIDENT OF BUSINESS SHARED SERVICES           IT   \n",
       "13                        MANAGER, TECHNICAL SERVICES           IT   \n",
       "14                         BRANCH MANAGER, PURCHASING   PURCHASING   \n",
       "15                              SYSTEMS ADMINISTRATOR           IT   \n",
       "16  CHIEF INFORMATION SECURITY OFFICER (RAYTHEON I...           IT   \n",
       "17                                                CIO           IT   \n",
       "18                       LEGISLATIVE AFFAIRS DIRECTOR        LEGAL   \n",
       "19          MANAGER, INFORMATION SYSTEMS APPLICATIONS           IT   \n",
       "\n",
       "                Job Role    Job Level  \n",
       "0   INFORMATION SECURITY      MANAGER  \n",
       "1   INFORMATION SECURITY      MANAGER  \n",
       "2            DEVELOPMENT  CONTRIBUTOR  \n",
       "3             NETWORKING  CONTRIBUTOR  \n",
       "4   INFORMATION SECURITY     DIRECTOR  \n",
       "5             NETWORKING  CONTRIBUTOR  \n",
       "6             NETWORKING     DIRECTOR  \n",
       "7   INFORMATION SECURITY      C-LEVEL  \n",
       "8             IT GENERAL     DIRECTOR  \n",
       "9             NETWORKING     DIRECTOR  \n",
       "10  INFORMATION SECURITY      C-LEVEL  \n",
       "11  INFORMATION SECURITY  CONTRIBUTOR  \n",
       "12               SYSTEMS    EXECUTIVE  \n",
       "13            IT GENERAL      MANAGER  \n",
       "14        NONE TECHNICAL      MANAGER  \n",
       "15  INFORMATION SECURITY  CONTRIBUTOR  \n",
       "16  INFORMATION SECURITY      C-LEVEL  \n",
       "17  INFORMATION SECURITY      C-LEVEL  \n",
       "18        NONE TECHNICAL     DIRECTOR  \n",
       "19            IT GENERAL      MANAGER  "
      ]
     },
     "execution_count": 47,
     "metadata": {},
     "output_type": "execute_result"
    }
   ],
   "source": [
    "original_data = pd.read_csv(\"../Data/Historical Lead Records - Condensed REMAPPED.csv\",\n",
    "                        encoding=\"utf-8\")\n",
    "# Need encoding change for weird characters to come through\n",
    "lead_data = original_data.copy()\n",
    "lead_data.head(20)"
   ]
  },
  {
   "cell_type": "markdown",
   "metadata": {},
   "source": [
    "Dimensions of data"
   ]
  },
  {
   "cell_type": "code",
   "execution_count": 48,
   "metadata": {},
   "outputs": [
    {
     "data": {
      "text/plain": [
       "(865671, 4)"
      ]
     },
     "execution_count": 48,
     "metadata": {},
     "output_type": "execute_result"
    }
   ],
   "source": [
    "lead_data.shape"
   ]
  },
  {
   "cell_type": "markdown",
   "metadata": {},
   "source": [
    "Unique values count"
   ]
  },
  {
   "cell_type": "code",
   "execution_count": 49,
   "metadata": {},
   "outputs": [
    {
     "data": {
      "text/plain": [
       "Title           179398\n",
       "Job Function        36\n",
       "Job Role            24\n",
       "Job Level           21\n",
       "dtype: int64"
      ]
     },
     "execution_count": 49,
     "metadata": {},
     "output_type": "execute_result"
    }
   ],
   "source": [
    "lead_data.nunique()"
   ]
  },
  {
   "cell_type": "markdown",
   "metadata": {},
   "source": [
    "Detailed summary"
   ]
  },
  {
   "cell_type": "code",
   "execution_count": 50,
   "metadata": {},
   "outputs": [
    {
     "data": {
      "text/plain": [
       "Job Function\n",
       "IT                                       601005\n",
       "ENGINEERING                               80188\n",
       "UNKNOWN                                   36795\n",
       "SALES                                     35243\n",
       "MANAGEMENT                                32227\n",
       "SUPPORT                                   16454\n",
       "OPERATIONS                                12860\n",
       "FINANCE                                   10717\n",
       "MARKETING                                 10537\n",
       "SERVICES                                   5268\n",
       "EDUCATION                                  3059\n",
       "PUBLIC SECTOR                              2905\n",
       "HUMAN RESOURCE                             2788\n",
       "ADMINISTRATION                             1985\n",
       "CORPORATE                                  1920\n",
       "LEGAL                                      1613\n",
       "FACILITIES                                 1535\n",
       "PURCHASING                                 1287\n",
       "MEDICAL                                    1266\n",
       "PROCUREMENT                                1241\n",
       "OTHER                                       992\n",
       "FIELD MARKETING                              91\n",
       "INFORMATION SECURITY                          6\n",
       "ENTERPRISE ARCHITECTURE                       3\n",
       "INFRASTRUCTURE                                2\n",
       "MARKETING OPERATIONS                          2\n",
       "ENGINEERING & TECHNICAL                       2\n",
       "INFORMATION TECHNOLOGY                        2\n",
       "IT AUDIT / IT COMPLIANCE                      1\n",
       "ACCOUNT MANAGEMENT                            1\n",
       "GOVERNMENTAL AFFAIRS & REGULATORY LAW         1\n",
       "SUPPORT / TECHNICAL SERVICES                  1\n",
       "IT OPERATIONS                                 1\n",
       "LAWYER / ATTORNEY                             1\n",
       "CUSTOMER SERVICE / SUPPORT                    1\n",
       "EMERGING TECHNOLOGY / INNOVATION              1\n",
       "Name: count, dtype: int64"
      ]
     },
     "execution_count": 50,
     "metadata": {},
     "output_type": "execute_result"
    },
    {
     "data": {
      "text/plain": [
       "Job Role\n",
       "INFORMATION SECURITY                   275444\n",
       "NETWORKING                             218787\n",
       "NONE TECHNICAL                         165854\n",
       "DEVELOPMENT                             82743\n",
       "IT GENERAL                              45789\n",
       "GOVERNANCE RISK COMPLIANCE              20641\n",
       "PROGRAM MANAGEMENT                       9913\n",
       "HELP DESK                                9157\n",
       "NON-IT                                   8278\n",
       "BUSINESS SYSTEMS                         7690\n",
       "SYSTEMS                                  6947\n",
       "OPERATIONS                               3906\n",
       "DATA                                     3401\n",
       "COMMUNICATIONS                           1355\n",
       "INTEGRATION                               591\n",
       "IT FACILITIES                             519\n",
       "VENDOR MANAGEMENT                         132\n",
       "TRAINING                                  125\n",
       "BUSINESS CONTINUITY                        80\n",
       "MANAGER, AD SYSTEMS                         3\n",
       "SENIOR MANAGER, CRITICAL FACILITIES         2\n",
       "OTHER                                       2\n",
       "CUSTOMER-FACING ROLE                        1\n",
       "LEAD DATA ENGINEER                          1\n",
       "Name: count, dtype: int64"
      ]
     },
     "execution_count": 50,
     "metadata": {},
     "output_type": "execute_result"
    },
    {
     "data": {
      "text/plain": [
       "Job Level\n",
       "CONTRIBUTOR                              310984\n",
       "MANAGER                                  175557\n",
       "DIRECTOR                                 142587\n",
       "EXECUTIVE                                110613\n",
       "C-LEVEL                                   97147\n",
       "UNKNOWN                                    4558\n",
       "NON-MANAGER                                1561\n",
       "VP-LEVEL                                    260\n",
       "TEAM LEAD                                    74\n",
       "VP/DIRECTOR                                  61\n",
       "ENGINEER/ADMIN                               32\n",
       "CXO                                          28\n",
       "DIRECTOR LEVEL                               11\n",
       "DIRECTOR / C-LEVEL                            7\n",
       "VP                                            6\n",
       "C-SUITE                                       2\n",
       "MANAGEMENT                                    1\n",
       "DIRECTOR OF ENTERPRISE CLOUD BUSINESS         1\n",
       "ENGINEER                                      1\n",
       "OTHER                                         1\n",
       "ADMIN                                         1\n",
       "Name: count, dtype: int64"
      ]
     },
     "execution_count": 50,
     "metadata": {},
     "output_type": "execute_result"
    }
   ],
   "source": [
    "pd.set_option('display.max_rows',100)\n",
    "for col in lead_data.drop('Title',axis = 1):\n",
    "    lead_data[col].value_counts()"
   ]
  },
  {
   "cell_type": "code",
   "execution_count": 51,
   "metadata": {},
   "outputs": [
    {
     "data": {
      "text/plain": [
       "Job Function\n",
       "IT                                       0.697221\n",
       "ENGINEERING                              0.093025\n",
       "UNKNOWN                                  0.042686\n",
       "SALES                                    0.040885\n",
       "MANAGEMENT                               0.037386\n",
       "SUPPORT                                  0.019088\n",
       "OPERATIONS                               0.014919\n",
       "FINANCE                                  0.012433\n",
       "MARKETING                                0.012224\n",
       "SERVICES                                 0.006111\n",
       "EDUCATION                                0.003549\n",
       "PUBLIC SECTOR                            0.003370\n",
       "HUMAN RESOURCE                           0.003234\n",
       "ADMINISTRATION                           0.002303\n",
       "CORPORATE                                0.002227\n",
       "LEGAL                                    0.001871\n",
       "FACILITIES                               0.001781\n",
       "PURCHASING                               0.001493\n",
       "MEDICAL                                  0.001469\n",
       "PROCUREMENT                              0.001440\n",
       "OTHER                                    0.001151\n",
       "FIELD MARKETING                          0.000106\n",
       "INFORMATION SECURITY                     0.000007\n",
       "ENTERPRISE ARCHITECTURE                  0.000003\n",
       "INFRASTRUCTURE                           0.000002\n",
       "MARKETING OPERATIONS                     0.000002\n",
       "ENGINEERING & TECHNICAL                  0.000002\n",
       "INFORMATION TECHNOLOGY                   0.000002\n",
       "IT AUDIT / IT COMPLIANCE                 0.000001\n",
       "ACCOUNT MANAGEMENT                       0.000001\n",
       "GOVERNMENTAL AFFAIRS & REGULATORY LAW    0.000001\n",
       "SUPPORT / TECHNICAL SERVICES             0.000001\n",
       "IT OPERATIONS                            0.000001\n",
       "LAWYER / ATTORNEY                        0.000001\n",
       "CUSTOMER SERVICE / SUPPORT               0.000001\n",
       "EMERGING TECHNOLOGY / INNOVATION         0.000001\n",
       "Name: proportion, dtype: float64"
      ]
     },
     "execution_count": 51,
     "metadata": {},
     "output_type": "execute_result"
    },
    {
     "data": {
      "text/plain": [
       "0.911203119253922"
      ]
     },
     "execution_count": 51,
     "metadata": {},
     "output_type": "execute_result"
    },
    {
     "data": {
      "text/plain": [
       "Job Role\n",
       "INFORMATION SECURITY                   0.319778\n",
       "NETWORKING                             0.254002\n",
       "NONE TECHNICAL                         0.192549\n",
       "DEVELOPMENT                            0.096061\n",
       "IT GENERAL                             0.053159\n",
       "GOVERNANCE RISK COMPLIANCE             0.023963\n",
       "PROGRAM MANAGEMENT                     0.011509\n",
       "HELP DESK                              0.010631\n",
       "NON-IT                                 0.009610\n",
       "BUSINESS SYSTEMS                       0.008928\n",
       "SYSTEMS                                0.008065\n",
       "OPERATIONS                             0.004535\n",
       "DATA                                   0.003948\n",
       "COMMUNICATIONS                         0.001573\n",
       "INTEGRATION                            0.000686\n",
       "IT FACILITIES                          0.000603\n",
       "VENDOR MANAGEMENT                      0.000153\n",
       "TRAINING                               0.000145\n",
       "BUSINESS CONTINUITY                    0.000093\n",
       "MANAGER, AD SYSTEMS                    0.000003\n",
       "SENIOR MANAGER, CRITICAL FACILITIES    0.000002\n",
       "OTHER                                  0.000002\n",
       "CUSTOMER-FACING ROLE                   0.000001\n",
       "LEAD DATA ENGINEER                     0.000001\n",
       "Name: proportion, dtype: float64"
      ]
     },
     "execution_count": 51,
     "metadata": {},
     "output_type": "execute_result"
    },
    {
     "data": {
      "text/plain": [
       "0.9155476043145672"
      ]
     },
     "execution_count": 51,
     "metadata": {},
     "output_type": "execute_result"
    },
    {
     "data": {
      "text/plain": [
       "Job Level\n",
       "CONTRIBUTOR                              0.368686\n",
       "MANAGER                                  0.208131\n",
       "DIRECTOR                                 0.169043\n",
       "EXECUTIVE                                0.131137\n",
       "C-LEVEL                                  0.115172\n",
       "UNKNOWN                                  0.005404\n",
       "NON-MANAGER                              0.001851\n",
       "VP-LEVEL                                 0.000308\n",
       "TEAM LEAD                                0.000088\n",
       "VP/DIRECTOR                              0.000072\n",
       "ENGINEER/ADMIN                           0.000038\n",
       "CXO                                      0.000033\n",
       "DIRECTOR LEVEL                           0.000013\n",
       "DIRECTOR / C-LEVEL                       0.000008\n",
       "VP                                       0.000007\n",
       "C-SUITE                                  0.000002\n",
       "MANAGEMENT                               0.000001\n",
       "DIRECTOR OF ENTERPRISE CLOUD BUSINESS    0.000001\n",
       "ENGINEER                                 0.000001\n",
       "OTHER                                    0.000001\n",
       "ADMIN                                    0.000001\n",
       "Name: proportion, dtype: float64"
      ]
     },
     "execution_count": 51,
     "metadata": {},
     "output_type": "execute_result"
    },
    {
     "data": {
      "text/plain": [
       "0.9921694667294215"
      ]
     },
     "execution_count": 51,
     "metadata": {},
     "output_type": "execute_result"
    }
   ],
   "source": [
    "pd.set_option('display.max_rows',100)\n",
    "for col in lead_data.drop('Title',axis = 1):\n",
    "    temp = lead_data[col].value_counts(normalize=True)\n",
    "    temp\n",
    "    temp.iloc[0:5].sum()"
   ]
  },
  {
   "cell_type": "markdown",
   "metadata": {},
   "source": [
    "A few directives to clean this data:\n",
    "\n",
    "1. Job roles to remain - Information Security (group in 'INformation Security', 'information security'), Networking (group in 'Netoworking'), IT General (group in 'IT Facilities', 'IT', 'Senior Manager, Information Technology'), Development, Systems (Group in 'Business Systems'), Governance Risk Compliance (not indicated but there are a significant number of them, group in 'Senior Manager, Security, Risk, and Compliance', 'IT/IS Compliance/Risk/Control Staff'); everything else will flow through as Non-ICP\n",
    "2. Job functions to remain - IT (group in 'Information Technology','IT - Security','IT - Network','Information Security, Information Technology','IT Operations','IT-Sec Admin','Director Global IT','Information Security, Information Technology, Enterprise Architecture','It','Information Technology, Information Technology Executive'), Engineering (include 'Engineering & Technical','Engineer SASE'), Procurement (group in 'Purchasing','Sourcing / Procurement'), Risk/Legal/Compliance (include 'Legal','Risk, Legal Operations','Lawyer / Attorney','Governmental Affairs & Regulatory Law')\n",
    "3. Job levels to remain - Contributor (include 'Individual Contributor','contributor','contribtuor'), Manager (include 'Management','Manager Level','manager','Threat Hunting Manager','IT Security Manager'), Executive (include 'Senior Executive','Exec.'), Director (include 'Director Level','IT Infrastructure Director','Director of Enterprise Cloud Business','IT Security Director'), C-Level (group in 'C-level','CxO','C level','C-suite','Director (It & Project) & Chief Information Security Officer','C Level')"
   ]
  },
  {
   "cell_type": "code",
   "execution_count": 54,
   "metadata": {},
   "outputs": [],
   "source": [
    "lead_data = lead_data.replace({'Job Role':['NETOWORKING']}, 'NETWORKING')\n",
    "lead_data = lead_data.replace({'Job Role':['IT FACILITIES', 'IT', 'SENIOR MANAGER, INFORMATION TECHNOLOGY']}, 'IT GENERAL')\n",
    "lead_data = lead_data.replace({'Job Role':['BUSINESS SYSTEMS']}, 'SYSTEMS')\n",
    "lead_data = lead_data.replace({'Job Role':['SENIOR MANAGER, SECURITY, RISK, AND COMPLIANCE', 'IT/IS COMPLIANCE/RISK/CONTROL STAFF']}, 'GOVERNANCE RISK COMPLIANCE')\n",
    "lead_data.loc[~lead_data['Job Role'].isin(['INFORMATION SECURITY','NETWORKING','IT GENERAL','SYSTEMS','GOVERNANCE RISK COMPLIANCE']) &\n",
    "            ~lead_data['Job Role'].isna(),\n",
    "            lead_data.columns == 'Job Role'] = 'NON-ICP'"
   ]
  },
  {
   "cell_type": "code",
   "execution_count": 55,
   "metadata": {},
   "outputs": [],
   "source": [
    "lead_data = lead_data.replace({'Job Function':['INFORMATION TECHNOLOGY','IT - SECURITY','IT - NETWORK','INFORMATION SECURITY, INFORMATION TECHNOLOGY','IT OPERATIONS','IT-SEC ADMIN','DIRECTOR GLOBAL IT','INFORMATION SECURITY, INFORMATION TECHNOLOGY, ENTERPRISE ARCHITECTURE','INFORMATION TECHNOLOGY, INFORMATION TECHNOLOGY EXECUTIVE']},\n",
    "                            'IT')\n",
    "lead_data = lead_data.replace({'Job Function':['ENGINEERING & TECHNICAL','ENGINEER SASE']},'ENGINEERING')\n",
    "lead_data = lead_data.replace({'Job Function':['PURCHASING','SOURCING / PROCUREMENT']},'PROCUREMENT')\n",
    "lead_data = lead_data.replace({'Job Function':['LEGAL','RISK, LEGAL OPERATIONS','LAWYER / ATTORNEY','GOVERNMENTALK AFFAIRS & REGULATORY LAW']},\n",
    "                            'RISK/LEGAL/COMPLIANCE')\n",
    "lead_data.loc[~lead_data['Job Function'].isin(['IT','ENGINEERING','PROCUREMENT','RISK/LEGAL/COMPLIANCE']) &\n",
    "            ~lead_data['Job Function'].isna(),\n",
    "            lead_data.columns == 'Job Function'] = 'NON-ICP'"
   ]
  },
  {
   "cell_type": "code",
   "execution_count": 56,
   "metadata": {},
   "outputs": [],
   "source": [
    "lead_data = lead_data.replace({'Job Level':['INDIVIDUAL CONTRIBUTOR','CONTRIBTUOR']},'CONTRIBUTOR')\n",
    "lead_data = lead_data.replace({'Job Level':['MANAGEMENT','MANAGER LEVEL','MANAGER','THREAT HUNTING MANAGER','IT SECURITY MANAGER']},'MANAGER')\n",
    "lead_data = lead_data.replace({'Job Level':['SENIOR EXECUTIVE','EXEC.']},'EXECUTIVE')\n",
    "lead_data = lead_data.replace({'Job Level':['DIRECTOR LEVEL','IT INFRASTRUCTURE DIRECTOR','DIRECTOR OF ENTERPRISE CLOUD BUSINESS','IT SECURITY DIRECTOR']},'DIRECTOR')\n",
    "lead_data = lead_data.replace({'Job Level':['CXO','C-SUITE','DIRECTOR (IT & PROJECT) & CHIEF INFORMATION SECURITY OFFICER','C LEVEL']},'C-LEVEL')\n",
    "lead_data.loc[~lead_data['Job Level'].isin(['CONTRIBUTOR','MANAGER','EXECUTIVE','DIRECTOR','C-LEVEL']) &\n",
    "            ~lead_data['Job Level'].isna(),\n",
    "            lead_data.columns == 'Job Level'] = 'UNKNOWN'"
   ]
  },
  {
   "cell_type": "markdown",
   "metadata": {},
   "source": [
    "Now let's look at the counts of the modified dataframe"
   ]
  },
  {
   "cell_type": "code",
   "execution_count": 57,
   "metadata": {},
   "outputs": [
    {
     "data": {
      "text/plain": [
       "Job Function\n",
       "IT                       601008\n",
       "NON-ICP                  176661\n",
       "ENGINEERING               80190\n",
       "PROCUREMENT                2528\n",
       "RISK/LEGAL/COMPLIANCE      1614\n",
       "Name: count, dtype: int64"
      ]
     },
     "execution_count": 57,
     "metadata": {},
     "output_type": "execute_result"
    },
    {
     "data": {
      "text/plain": [
       "Job Role\n",
       "NON-ICP                       285544\n",
       "INFORMATION SECURITY          275444\n",
       "NETWORKING                    218787\n",
       "IT GENERAL                     46308\n",
       "GOVERNANCE RISK COMPLIANCE     20641\n",
       "SYSTEMS                        14637\n",
       "Name: count, dtype: int64"
      ]
     },
     "execution_count": 57,
     "metadata": {},
     "output_type": "execute_result"
    },
    {
     "data": {
      "text/plain": [
       "Job Level\n",
       "CONTRIBUTOR    310984\n",
       "MANAGER        175558\n",
       "DIRECTOR       142599\n",
       "EXECUTIVE      110613\n",
       "C-LEVEL         97177\n",
       "UNKNOWN          6562\n",
       "Name: count, dtype: int64"
      ]
     },
     "execution_count": 57,
     "metadata": {},
     "output_type": "execute_result"
    }
   ],
   "source": [
    "for col in lead_data.drop('Title',axis = 1):\n",
    "    lead_data[col].value_counts()"
   ]
  },
  {
   "cell_type": "code",
   "execution_count": 58,
   "metadata": {},
   "outputs": [
    {
     "data": {
      "text/plain": [
       "Job Function\n",
       "IT                       0.697224\n",
       "NON-ICP                  0.204943\n",
       "ENGINEERING              0.093028\n",
       "PROCUREMENT              0.002933\n",
       "RISK/LEGAL/COMPLIANCE    0.001872\n",
       "Name: proportion, dtype: float64"
      ]
     },
     "execution_count": 58,
     "metadata": {},
     "output_type": "execute_result"
    },
    {
     "data": {
      "text/plain": [
       "Job Role\n",
       "NON-ICP                       0.331503\n",
       "INFORMATION SECURITY          0.319778\n",
       "NETWORKING                    0.254002\n",
       "IT GENERAL                    0.053761\n",
       "GOVERNANCE RISK COMPLIANCE    0.023963\n",
       "SYSTEMS                       0.016993\n",
       "Name: proportion, dtype: float64"
      ]
     },
     "execution_count": 58,
     "metadata": {},
     "output_type": "execute_result"
    },
    {
     "data": {
      "text/plain": [
       "Job Level\n",
       "CONTRIBUTOR    0.368686\n",
       "MANAGER        0.208132\n",
       "DIRECTOR       0.169058\n",
       "EXECUTIVE      0.131137\n",
       "C-LEVEL        0.115208\n",
       "UNKNOWN        0.007780\n",
       "Name: proportion, dtype: float64"
      ]
     },
     "execution_count": 58,
     "metadata": {},
     "output_type": "execute_result"
    }
   ],
   "source": [
    "for col in lead_data.drop('Title',axis = 1):\n",
    "    lead_data[col].value_counts(normalize=True)"
   ]
  },
  {
   "cell_type": "markdown",
   "metadata": {},
   "source": [
    "Number of rows where any one of the outputs are NA"
   ]
  },
  {
   "cell_type": "code",
   "execution_count": 59,
   "metadata": {},
   "outputs": [
    {
     "data": {
      "text/plain": [
       "25569"
      ]
     },
     "execution_count": 59,
     "metadata": {},
     "output_type": "execute_result"
    },
    {
     "data": {
      "text/plain": [
       "0.02953662534611879"
      ]
     },
     "execution_count": 59,
     "metadata": {},
     "output_type": "execute_result"
    }
   ],
   "source": [
    "(lead_data['Job Role'].isna()|lead_data['Job Function'].isna()|lead_data['Job Level'].isna()).sum()\n",
    "(lead_data['Job Role'].isna()|lead_data['Job Function'].isna()|lead_data['Job Level'].isna()).sum()/lead_data.shape[0]"
   ]
  },
  {
   "cell_type": "markdown",
   "metadata": {},
   "source": [
    "To make modeling easier, it might be acceptable to drop this 3% of the data. Now let's see the number of distinct words in the job title field. Need to filter out NaNs."
   ]
  },
  {
   "cell_type": "code",
   "execution_count": 60,
   "metadata": {},
   "outputs": [
    {
     "data": {
      "text/plain": [
       "12730"
      ]
     },
     "execution_count": 60,
     "metadata": {},
     "output_type": "execute_result"
    },
    {
     "data": {
      "text/plain": [
       "0.014705355729832696"
      ]
     },
     "execution_count": 60,
     "metadata": {},
     "output_type": "execute_result"
    }
   ],
   "source": [
    "lead_data['Title'].isna().sum()\n",
    "lead_data['Title'].isna().sum()/lead_data.shape[0]"
   ]
  },
  {
   "cell_type": "code",
   "execution_count": 61,
   "metadata": {},
   "outputs": [
    {
     "data": {
      "text/plain": [
       "27978"
      ]
     },
     "execution_count": 61,
     "metadata": {},
     "output_type": "execute_result"
    },
    {
     "data": {
      "text/plain": [
       "0.03231943775406592"
      ]
     },
     "execution_count": 61,
     "metadata": {},
     "output_type": "execute_result"
    }
   ],
   "source": [
    "(lead_data['Job Role'].isna()|lead_data['Job Function'].isna()|lead_data['Job Level'].isna()|lead_data['Title'].isna()).sum()\n",
    "(lead_data['Job Role'].isna()|lead_data['Job Function'].isna()|lead_data['Job Level'].isna()|lead_data['Title'].isna()).sum()/lead_data.shape[0]"
   ]
  },
  {
   "cell_type": "markdown",
   "metadata": {},
   "source": [
    "Nearly 28K NAs, which is about 3% of the data."
   ]
  },
  {
   "cell_type": "code",
   "execution_count": 62,
   "metadata": {},
   "outputs": [],
   "source": [
    "words_series = lead_data['Title'].loc[~lead_data['Title'].isna()].str.lower().str.split().tolist()\n",
    "words_list = [word for title in words_series for word in title]"
   ]
  },
  {
   "cell_type": "markdown",
   "metadata": {},
   "source": [
    "Unique number of words"
   ]
  },
  {
   "cell_type": "code",
   "execution_count": 63,
   "metadata": {},
   "outputs": [
    {
     "data": {
      "text/plain": [
       "31770"
      ]
     },
     "execution_count": 63,
     "metadata": {},
     "output_type": "execute_result"
    }
   ],
   "source": [
    "words_set = set(words_list)\n",
    "len(words_set)"
   ]
  },
  {
   "cell_type": "markdown",
   "metadata": {},
   "source": [
    "Remove stopwords"
   ]
  },
  {
   "cell_type": "code",
   "execution_count": 64,
   "metadata": {},
   "outputs": [
    {
     "name": "stderr",
     "output_type": "stream",
     "text": [
      "[nltk_data] Downloading package stopwords to\n",
      "[nltk_data]     C:\\Users\\csarc\\AppData\\Roaming\\nltk_data...\n",
      "[nltk_data]   Package stopwords is already up-to-date!\n"
     ]
    },
    {
     "data": {
      "text/plain": [
       "True"
      ]
     },
     "execution_count": 64,
     "metadata": {},
     "output_type": "execute_result"
    }
   ],
   "source": [
    "nltk.download('stopwords')\n",
    "stop_words = set(stopwords.words('english'))"
   ]
  },
  {
   "cell_type": "code",
   "execution_count": 65,
   "metadata": {},
   "outputs": [
    {
     "data": {
      "text/plain": [
       "31667"
      ]
     },
     "execution_count": 65,
     "metadata": {},
     "output_type": "execute_result"
    }
   ],
   "source": [
    "len(words_set - stop_words)"
   ]
  },
  {
   "cell_type": "markdown",
   "metadata": {},
   "source": [
    "Not that many overlapping, so there's not really that much of an impact of removing stopwords. Thus, for the model, I won't even bother to do this."
   ]
  }
 ],
 "metadata": {
  "kernelspec": {
   "display_name": "netskope",
   "language": "python",
   "name": "python3"
  },
  "language_info": {
   "codemirror_mode": {
    "name": "ipython",
    "version": 3
   },
   "file_extension": ".py",
   "mimetype": "text/x-python",
   "name": "python",
   "nbconvert_exporter": "python",
   "pygments_lexer": "ipython3",
   "version": "3.12.1"
  }
 },
 "nbformat": 4,
 "nbformat_minor": 2
}
