{
 "cells": [
  {
   "cell_type": "code",
   "execution_count": 58,
   "metadata": {},
   "outputs": [],
   "source": [
    "import pandas as pd\n",
    "import numpy as np\n",
    "import nltk\n",
    "from nltk.corpus import stopwords\n",
    "import pickle\n",
    "\n",
    "from IPython.core.interactiveshell import InteractiveShell\n",
    "InteractiveShell.ast_node_interactivity = \"all\""
   ]
  },
  {
   "cell_type": "markdown",
   "metadata": {},
   "source": [
    "Now we load in the data file."
   ]
  },
  {
   "cell_type": "code",
   "execution_count": 59,
   "metadata": {},
   "outputs": [
    {
     "data": {
      "text/html": [
       "<div>\n",
       "<style scoped>\n",
       "    .dataframe tbody tr th:only-of-type {\n",
       "        vertical-align: middle;\n",
       "    }\n",
       "\n",
       "    .dataframe tbody tr th {\n",
       "        vertical-align: top;\n",
       "    }\n",
       "\n",
       "    .dataframe thead th {\n",
       "        text-align: right;\n",
       "    }\n",
       "</style>\n",
       "<table border=\"1\" class=\"dataframe\">\n",
       "  <thead>\n",
       "    <tr style=\"text-align: right;\">\n",
       "      <th></th>\n",
       "      <th>Title</th>\n",
       "      <th>Job Role</th>\n",
       "      <th>Job Function</th>\n",
       "      <th>Job Level</th>\n",
       "    </tr>\n",
       "  </thead>\n",
       "  <tbody>\n",
       "    <tr>\n",
       "      <th>0</th>\n",
       "      <td>Chief Information Security Officer</td>\n",
       "      <td>Information Security</td>\n",
       "      <td>IT</td>\n",
       "      <td>C-Level</td>\n",
       "    </tr>\n",
       "    <tr>\n",
       "      <th>1</th>\n",
       "      <td>Group IT Director</td>\n",
       "      <td>IT General</td>\n",
       "      <td>IT</td>\n",
       "      <td>Director</td>\n",
       "    </tr>\n",
       "    <tr>\n",
       "      <th>2</th>\n",
       "      <td>Regional Health Administrator, Region 7</td>\n",
       "      <td>None Technical</td>\n",
       "      <td>Medical</td>\n",
       "      <td>Contributor</td>\n",
       "    </tr>\n",
       "    <tr>\n",
       "      <th>3</th>\n",
       "      <td>Cyber Analyst</td>\n",
       "      <td>Information Security</td>\n",
       "      <td>IT</td>\n",
       "      <td>Contributor</td>\n",
       "    </tr>\n",
       "    <tr>\n",
       "      <th>4</th>\n",
       "      <td>Director Transformación Digital</td>\n",
       "      <td>Networking</td>\n",
       "      <td>IT</td>\n",
       "      <td>Director</td>\n",
       "    </tr>\n",
       "    <tr>\n",
       "      <th>5</th>\n",
       "      <td>Head of Change Management</td>\n",
       "      <td>Program Management</td>\n",
       "      <td>IT</td>\n",
       "      <td>Executive</td>\n",
       "    </tr>\n",
       "    <tr>\n",
       "      <th>6</th>\n",
       "      <td>Head, Technology - Digital Bank</td>\n",
       "      <td>IT General</td>\n",
       "      <td>IT</td>\n",
       "      <td>Executive</td>\n",
       "    </tr>\n",
       "    <tr>\n",
       "      <th>7</th>\n",
       "      <td>Director de Riesgos</td>\n",
       "      <td>IT General</td>\n",
       "      <td>IT</td>\n",
       "      <td>Director</td>\n",
       "    </tr>\n",
       "    <tr>\n",
       "      <th>8</th>\n",
       "      <td>IT Director - Information Security &amp; Risk Mana...</td>\n",
       "      <td>Networking</td>\n",
       "      <td>IT</td>\n",
       "      <td>Director</td>\n",
       "    </tr>\n",
       "    <tr>\n",
       "      <th>9</th>\n",
       "      <td>Lead Architect</td>\n",
       "      <td>Networking</td>\n",
       "      <td>IT</td>\n",
       "      <td>Manager</td>\n",
       "    </tr>\n",
       "    <tr>\n",
       "      <th>10</th>\n",
       "      <td>Product Owner</td>\n",
       "      <td>Development</td>\n",
       "      <td>Engineering</td>\n",
       "      <td>Manager</td>\n",
       "    </tr>\n",
       "    <tr>\n",
       "      <th>11</th>\n",
       "      <td>Electric and plumbing</td>\n",
       "      <td>None Technical</td>\n",
       "      <td>Engineering</td>\n",
       "      <td>NaN</td>\n",
       "    </tr>\n",
       "    <tr>\n",
       "      <th>12</th>\n",
       "      <td>System Operations Engineer</td>\n",
       "      <td>Development</td>\n",
       "      <td>Engineering</td>\n",
       "      <td>Contributor</td>\n",
       "    </tr>\n",
       "    <tr>\n",
       "      <th>13</th>\n",
       "      <td>Telecom Supervisor</td>\n",
       "      <td>Information Security</td>\n",
       "      <td>IT</td>\n",
       "      <td>Manager</td>\n",
       "    </tr>\n",
       "    <tr>\n",
       "      <th>14</th>\n",
       "      <td>It supervisor</td>\n",
       "      <td>Information Security</td>\n",
       "      <td>IT</td>\n",
       "      <td>Manager</td>\n",
       "    </tr>\n",
       "    <tr>\n",
       "      <th>15</th>\n",
       "      <td>Supervisor, Code</td>\n",
       "      <td>Information Security</td>\n",
       "      <td>IT</td>\n",
       "      <td>Manager</td>\n",
       "    </tr>\n",
       "    <tr>\n",
       "      <th>16</th>\n",
       "      <td>Responsable Exploitation Systeme Et Reseau</td>\n",
       "      <td>IT General</td>\n",
       "      <td>IT</td>\n",
       "      <td>Manager</td>\n",
       "    </tr>\n",
       "    <tr>\n",
       "      <th>17</th>\n",
       "      <td>Cyber Security Manager</td>\n",
       "      <td>Information Security</td>\n",
       "      <td>IT</td>\n",
       "      <td>Manager</td>\n",
       "    </tr>\n",
       "    <tr>\n",
       "      <th>18</th>\n",
       "      <td>Founder/coo</td>\n",
       "      <td>None Technical</td>\n",
       "      <td>Operations</td>\n",
       "      <td>C-Level</td>\n",
       "    </tr>\n",
       "    <tr>\n",
       "      <th>19</th>\n",
       "      <td>Lider de Infraestructura</td>\n",
       "      <td>Networking</td>\n",
       "      <td>IT</td>\n",
       "      <td>Contributor</td>\n",
       "    </tr>\n",
       "  </tbody>\n",
       "</table>\n",
       "</div>"
      ],
      "text/plain": [
       "                                                Title              Job Role  \\\n",
       "0                  Chief Information Security Officer  Information Security   \n",
       "1                                   Group IT Director            IT General   \n",
       "2             Regional Health Administrator, Region 7        None Technical   \n",
       "3                                       Cyber Analyst  Information Security   \n",
       "4                     Director Transformación Digital            Networking   \n",
       "5                           Head of Change Management    Program Management   \n",
       "6                     Head, Technology - Digital Bank            IT General   \n",
       "7                                 Director de Riesgos            IT General   \n",
       "8   IT Director - Information Security & Risk Mana...            Networking   \n",
       "9                                      Lead Architect            Networking   \n",
       "10                                      Product Owner           Development   \n",
       "11                              Electric and plumbing        None Technical   \n",
       "12                         System Operations Engineer           Development   \n",
       "13                                 Telecom Supervisor  Information Security   \n",
       "14                                      It supervisor  Information Security   \n",
       "15                                   Supervisor, Code  Information Security   \n",
       "16         Responsable Exploitation Systeme Et Reseau            IT General   \n",
       "17                             Cyber Security Manager  Information Security   \n",
       "18                                        Founder/coo        None Technical   \n",
       "19                           Lider de Infraestructura            Networking   \n",
       "\n",
       "   Job Function    Job Level  \n",
       "0            IT      C-Level  \n",
       "1            IT     Director  \n",
       "2       Medical  Contributor  \n",
       "3            IT  Contributor  \n",
       "4            IT     Director  \n",
       "5            IT    Executive  \n",
       "6            IT    Executive  \n",
       "7            IT     Director  \n",
       "8            IT     Director  \n",
       "9            IT      Manager  \n",
       "10  Engineering      Manager  \n",
       "11  Engineering          NaN  \n",
       "12  Engineering  Contributor  \n",
       "13           IT      Manager  \n",
       "14           IT      Manager  \n",
       "15           IT      Manager  \n",
       "16           IT      Manager  \n",
       "17           IT      Manager  \n",
       "18   Operations      C-Level  \n",
       "19           IT  Contributor  "
      ]
     },
     "execution_count": 59,
     "metadata": {},
     "output_type": "execute_result"
    }
   ],
   "source": [
    "original_data = pd.read_csv(\"../Data/Historical Lead Records.csv\",\n",
    "                        encoding=\"ISO-8859-1\")\n",
    "# Need encoding change for weird characters to come through\n",
    "lead_data = original_data.copy()\n",
    "lead_data.head(20)"
   ]
  },
  {
   "cell_type": "markdown",
   "metadata": {},
   "source": [
    "Dimensions of data"
   ]
  },
  {
   "cell_type": "code",
   "execution_count": 60,
   "metadata": {},
   "outputs": [
    {
     "data": {
      "text/plain": [
       "(1647488, 4)"
      ]
     },
     "execution_count": 60,
     "metadata": {},
     "output_type": "execute_result"
    }
   ],
   "source": [
    "lead_data.shape"
   ]
  },
  {
   "cell_type": "markdown",
   "metadata": {},
   "source": [
    "Unique values count"
   ]
  },
  {
   "cell_type": "code",
   "execution_count": 61,
   "metadata": {},
   "outputs": [
    {
     "data": {
      "text/plain": [
       "Title           335895\n",
       "Job Role            42\n",
       "Job Function        90\n",
       "Job Level           56\n",
       "dtype: int64"
      ]
     },
     "execution_count": 61,
     "metadata": {},
     "output_type": "execute_result"
    }
   ],
   "source": [
    "lead_data.nunique()"
   ]
  },
  {
   "cell_type": "markdown",
   "metadata": {},
   "source": [
    "Detailed summary"
   ]
  },
  {
   "cell_type": "code",
   "execution_count": 62,
   "metadata": {},
   "outputs": [
    {
     "data": {
      "text/plain": [
       "Job Role\n",
       "Information Security                              459381\n",
       "None Technical                                    410687\n",
       "Networking                                        299567\n",
       "IT General                                        168195\n",
       "Development                                       137220\n",
       "Governance Risk Compliance                         30575\n",
       "Non-IT                                             25702\n",
       "Systems                                            22855\n",
       "Program Management                                 17716\n",
       "Business Systems                                   14688\n",
       "Help Desk                                          14100\n",
       "Operations                                          8331\n",
       "Data                                                5962\n",
       "Communications                                      1985\n",
       "Integration                                         1368\n",
       "IT Facilities                                        728\n",
       "Vendor Management                                    445\n",
       "Training                                             280\n",
       "Business Continuity                                  225\n",
       "Other                                                 15\n",
       "SVP                                                   12\n",
       "IT                                                     8\n",
       "INformation Security                                   7\n",
       "CEO                                                    7\n",
       "Founder And CEO                                        6\n",
       "Senior Manager, Security, Risk, and Compliance         6\n",
       "Security                                               6\n",
       "Chief Executive Officer & President                    4\n",
       "SENIOR CYBERSECURITY ENGINEER                          4\n",
       "Executive                                              4\n",
       "Manager, AD Systems                                    3\n",
       "IT/IS Compliance/Risk/Control Staff                    2\n",
       "Senior Manager, Critical Facilities                    2\n",
       "VP                                                     2\n",
       "Senior Manager, Information Technology                 2\n",
       "Sr. General Manager                                    2\n",
       "Customer-facing role                                   1\n",
       "information security                                   1\n",
       "Lead Data Engineer                                     1\n",
       "Architect                                              1\n",
       "Netoworking                                            1\n",
       "Cloud Infrastructure Architect                         1\n",
       "Name: count, dtype: int64"
      ]
     },
     "execution_count": 62,
     "metadata": {},
     "output_type": "execute_result"
    },
    {
     "data": {
      "text/plain": [
       "Job Function\n",
       "IT                                                                                                                     1036097\n",
       "Engineering                                                                                                             143806\n",
       "Unknown                                                                                                                 120845\n",
       "Sales                                                                                                                    93194\n",
       "Management                                                                                                               63094\n",
       "Support                                                                                                                  33666\n",
       "Operations                                                                                                               30653\n",
       "Marketing                                                                                                                25748\n",
       "Finance                                                                                                                  20510\n",
       "Services                                                                                                                  9766\n",
       "Other                                                                                                                     7979\n",
       "Education                                                                                                                 4918\n",
       "Human Resource                                                                                                            4586\n",
       "Public Sector                                                                                                             3930\n",
       "Purchasing                                                                                                                3557\n",
       "Legal                                                                                                                     3229\n",
       "Administration                                                                                                            3227\n",
       "Corporate                                                                                                                 2888\n",
       "Facilities                                                                                                                2410\n",
       "Procurement                                                                                                               2314\n",
       "Medical                                                                                                                   1845\n",
       "Information Security                                                                                                        27\n",
       "Information Technology                                                                                                      15\n",
       "Field / Outside Sales                                                                                                       10\n",
       "Engineering & Technical                                                                                                      9\n",
       "Infrastructure                                                                                                               9\n",
       "Enterprise Architecture                                                                                                      7\n",
       "IT - Security                                                                                                                7\n",
       "Account Management                                                                                                           7\n",
       "IT - Network                                                                                                                 6\n",
       "Information Security, Information Technology                                                                                 5\n",
       "Financial Planning & Analysis                                                                                                5\n",
       "Product Management                                                                                                           5\n",
       "Help Desk / Desktop Services                                                                                                 5\n",
       "Privacy                                                                                                                      4\n",
       "Support / Technical Services                                                                                                 4\n",
       "Marketing Operations                                                                                                         4\n",
       "Project Management                                                                                                           4\n",
       "Field Marketing                                                                                                              3\n",
       "Technology Operations                                                                                                        3\n",
       "Compliance, Internal Audit & Control, Governance                                                                             3\n",
       "Customer Service / Support                                                                                                   3\n",
       "Recruiting & Talent Acquisition                                                                                              3\n",
       "Safety                                                                                                                       2\n",
       "Engineer SASE                                                                                                                2\n",
       "Internal Audit & Control, Governance                                                                                         2\n",
       "Software Development                                                                                                         2\n",
       "Risk, Legal Operations                                                                                                       2\n",
       "Servers, Application Development                                                                                             1\n",
       "Software Development, Application Development                                                                                1\n",
       "IT Operations                                                                                                                1\n",
       "Business Intelligence                                                                                                        1\n",
       "Field / Outside Sales, Sales                                                                                                 1\n",
       "Accounting, Internal Audit & Control                                                                                         1\n",
       "Database Administration                                                                                                      1\n",
       "NetSec Operations                                                                                                            1\n",
       "Corporate Strategy                                                                                                           1\n",
       "Lawyer / Attorney                                                                                                            1\n",
       "Virtualization                                                                                                               1\n",
       "IT-Sec Admin                                                                                                                 1\n",
       "Search Engine Optimization / Pay Per Click                                                                                   1\n",
       "Emerging Technology / Innovation                                                                                             1\n",
       "Governmental Affairs & Regulatory Law                                                                                        1\n",
       "Business Development                                                                                                         1\n",
       "Facilities Management                                                                                                        1\n",
       "Digital Transformation, Information Technology Executive, Information Technology, Engineering & Technical Executive          1\n",
       "Data Center                                                                                                                  1\n",
       "Test / Quality Assurance                                                                                                     1\n",
       "Business Service Management / ITSM                                                                                           1\n",
       "Nursing                                                                                                                      1\n",
       "Sales Engineering                                                                                                            1\n",
       "Scrum Master / Agile Coach                                                                                                   1\n",
       "Industrial Engineering                                                                                                       1\n",
       "Inside Sales                                                                                                                 1\n",
       "Marketing/Sales                                                                                                              1\n",
       "Epidemiology                                                                                                                 1\n",
       "Executive                                                                                                                    1\n",
       "Director Global IT                                                                                                           1\n",
       "CIO                                                                                                                          1\n",
       "Application Development                                                                                                      1\n",
       "Information Security, Information Technology, Enterprise Architecture                                                        1\n",
       "Customer Success                                                                                                             1\n",
       "HR / Financial / ERP Systems                                                                                                 1\n",
       "Enterprise Architecture, HR / Financial / ERP Systems                                                                        1\n",
       "Sourcing / Procurement                                                                                                       1\n",
       "Servers                                                                                                                      1\n",
       "Project & Program Management                                                                                                 1\n",
       "It                                                                                                                           1\n",
       "Operations Executive, Operations                                                                                             1\n",
       "Information Technology, Information Technology Executive                                                                     1\n",
       "Name: count, dtype: int64"
      ]
     },
     "execution_count": 62,
     "metadata": {},
     "output_type": "execute_result"
    },
    {
     "data": {
      "text/plain": [
       "Job Level\n",
       "Contributor                                                     605724\n",
       "Manager                                                         336357\n",
       "Executive                                                       212423\n",
       "Director                                                        209707\n",
       "C-Level                                                         172919\n",
       "Unknown                                                          13594\n",
       "Non-Manager                                                       4221\n",
       "C-level                                                            600\n",
       "VP-Level                                                           336\n",
       "Team Lead                                                          165\n",
       "Individual Contributor                                             118\n",
       "VP/Director                                                        113\n",
       "Engineer/Admin                                                      75\n",
       "Other                                                               70\n",
       "CxO                                                                 40\n",
       "Director / C-Level                                                  37\n",
       "Management                                                          18\n",
       "Director Level                                                      16\n",
       "Manager Level                                                       16\n",
       "Decision maker                                                      14\n",
       "Senior Management                                                   10\n",
       "contributor                                                         10\n",
       "VP                                                                   9\n",
       "??                                                                   7\n",
       "Senior Security Engineer - SSE Lead                                  5\n",
       "Technik DV/IT                                                        4\n",
       "IT                                                                   4\n",
       "???                                                                  3\n",
       "manager                                                              3\n",
       "Senior Manager                                                       3\n",
       "contribtuor                                                          2\n",
       "C level                                                              2\n",
       "Global Infosec Engineering Tech Manager                              2\n",
       "?? DX????                                                            2\n",
       "????                                                                 2\n",
       "C-suite                                                              2\n",
       "Influencers                                                          2\n",
       "IT Security Admin                                                    2\n",
       "Member of Technical Staff 2                                          2\n",
       "Director (It & Project) & Chief Information Security Officer         2\n",
       "Sr Manager                                                           2\n",
       "Analyst                                                              1\n",
       "??????????                                                           1\n",
       "Admin                                                                1\n",
       "Jt. General Manager                                                  1\n",
       "IT Infrastructure Director                                           1\n",
       "Threat Hunting Manager                                               1\n",
       "Director of Enterprise Cloud Business                                1\n",
       "IT Security Director                                                 1\n",
       "IT Security Manager                                                  1\n",
       "IT Security Engineer                                                 1\n",
       "Senior Executive                                                     1\n",
       "C Level                                                              1\n",
       "Engineer                                                             1\n",
       "Exec.                                                                1\n",
       "Security Analyst                                                     1\n",
       "Name: count, dtype: int64"
      ]
     },
     "execution_count": 62,
     "metadata": {},
     "output_type": "execute_result"
    }
   ],
   "source": [
    "pd.set_option('display.max_rows',100)\n",
    "for col in lead_data.drop('Title',axis = 1):\n",
    "    lead_data[col].value_counts()"
   ]
  },
  {
   "cell_type": "code",
   "execution_count": 63,
   "metadata": {},
   "outputs": [
    {
     "data": {
      "text/plain": [
       "Job Role\n",
       "Information Security                              2.835496e-01\n",
       "None Technical                                    2.534936e-01\n",
       "Networking                                        1.849056e-01\n",
       "IT General                                        1.038172e-01\n",
       "Development                                       8.469806e-02\n",
       "Governance Risk Compliance                        1.887220e-02\n",
       "Non-IT                                            1.586437e-02\n",
       "Systems                                           1.410708e-02\n",
       "Program Management                                1.093507e-02\n",
       "Business Systems                                  9.066062e-03\n",
       "Help Desk                                         8.703123e-03\n",
       "Operations                                        5.142250e-03\n",
       "Data                                              3.680002e-03\n",
       "Communications                                    1.225227e-03\n",
       "Integration                                       8.443882e-04\n",
       "IT Facilities                                     4.493528e-04\n",
       "Vendor Management                                 2.746730e-04\n",
       "Training                                          1.728280e-04\n",
       "Business Continuity                               1.388796e-04\n",
       "Other                                             9.258642e-06\n",
       "SVP                                               7.406914e-06\n",
       "IT                                                4.937942e-06\n",
       "INformation Security                              4.320700e-06\n",
       "CEO                                               4.320700e-06\n",
       "Founder And CEO                                   3.703457e-06\n",
       "Senior Manager, Security, Risk, and Compliance    3.703457e-06\n",
       "Security                                          3.703457e-06\n",
       "Chief Executive Officer & President               2.468971e-06\n",
       "SENIOR CYBERSECURITY ENGINEER                     2.468971e-06\n",
       "Executive                                         2.468971e-06\n",
       "Manager, AD Systems                               1.851728e-06\n",
       "IT/IS Compliance/Risk/Control Staff               1.234486e-06\n",
       "Senior Manager, Critical Facilities               1.234486e-06\n",
       "VP                                                1.234486e-06\n",
       "Senior Manager, Information Technology            1.234486e-06\n",
       "Sr. General Manager                               1.234486e-06\n",
       "Customer-facing role                              6.172428e-07\n",
       "information security                              6.172428e-07\n",
       "Lead Data Engineer                                6.172428e-07\n",
       "Architect                                         6.172428e-07\n",
       "Netoworking                                       6.172428e-07\n",
       "Cloud Infrastructure Architect                    6.172428e-07\n",
       "Name: proportion, dtype: float64"
      ]
     },
     "execution_count": 63,
     "metadata": {},
     "output_type": "execute_result"
    },
    {
     "data": {
      "text/plain": [
       "0.9104639937584407"
      ]
     },
     "execution_count": 63,
     "metadata": {},
     "output_type": "execute_result"
    },
    {
     "data": {
      "text/plain": [
       "Job Function\n",
       "IT                                                                                                                     6.401738e-01\n",
       "Engineering                                                                                                            8.885349e-02\n",
       "Unknown                                                                                                                7.466657e-02\n",
       "Sales                                                                                                                  5.758183e-02\n",
       "Management                                                                                                             3.898392e-02\n",
       "Support                                                                                                                2.080123e-02\n",
       "Operations                                                                                                             1.893959e-02\n",
       "Marketing                                                                                                              1.590893e-02\n",
       "Finance                                                                                                                1.267252e-02\n",
       "Services                                                                                                               6.034124e-03\n",
       "Other                                                                                                                  4.929989e-03\n",
       "Education                                                                                                              3.038687e-03\n",
       "Human Resource                                                                                                         2.833554e-03\n",
       "Public Sector                                                                                                          2.428231e-03\n",
       "Purchasing                                                                                                             2.197766e-03\n",
       "Legal                                                                                                                  1.995104e-03\n",
       "Administration                                                                                                         1.993868e-03\n",
       "Corporate                                                                                                              1.784410e-03\n",
       "Facilities                                                                                                             1.489068e-03\n",
       "Procurement                                                                                                            1.429752e-03\n",
       "Medical                                                                                                                1.139971e-03\n",
       "Information Security                                                                                                   1.668250e-05\n",
       "Information Technology                                                                                                 9.268058e-06\n",
       "Field / Outside Sales                                                                                                  6.178705e-06\n",
       "Engineering & Technical                                                                                                5.560835e-06\n",
       "Infrastructure                                                                                                         5.560835e-06\n",
       "Enterprise Architecture                                                                                                4.325094e-06\n",
       "IT - Security                                                                                                          4.325094e-06\n",
       "Account Management                                                                                                     4.325094e-06\n",
       "IT - Network                                                                                                           3.707223e-06\n",
       "Information Security, Information Technology                                                                           3.089353e-06\n",
       "Financial Planning & Analysis                                                                                          3.089353e-06\n",
       "Product Management                                                                                                     3.089353e-06\n",
       "Help Desk / Desktop Services                                                                                           3.089353e-06\n",
       "Privacy                                                                                                                2.471482e-06\n",
       "Support / Technical Services                                                                                           2.471482e-06\n",
       "Marketing Operations                                                                                                   2.471482e-06\n",
       "Project Management                                                                                                     2.471482e-06\n",
       "Field Marketing                                                                                                        1.853612e-06\n",
       "Technology Operations                                                                                                  1.853612e-06\n",
       "Compliance, Internal Audit & Control, Governance                                                                       1.853612e-06\n",
       "Customer Service / Support                                                                                             1.853612e-06\n",
       "Recruiting & Talent Acquisition                                                                                        1.853612e-06\n",
       "Safety                                                                                                                 1.235741e-06\n",
       "Engineer SASE                                                                                                          1.235741e-06\n",
       "Internal Audit & Control, Governance                                                                                   1.235741e-06\n",
       "Software Development                                                                                                   1.235741e-06\n",
       "Risk, Legal Operations                                                                                                 1.235741e-06\n",
       "Servers, Application Development                                                                                       6.178705e-07\n",
       "Software Development, Application Development                                                                          6.178705e-07\n",
       "IT Operations                                                                                                          6.178705e-07\n",
       "Business Intelligence                                                                                                  6.178705e-07\n",
       "Field / Outside Sales, Sales                                                                                           6.178705e-07\n",
       "Accounting, Internal Audit & Control                                                                                   6.178705e-07\n",
       "Database Administration                                                                                                6.178705e-07\n",
       "NetSec Operations                                                                                                      6.178705e-07\n",
       "Corporate Strategy                                                                                                     6.178705e-07\n",
       "Lawyer / Attorney                                                                                                      6.178705e-07\n",
       "Virtualization                                                                                                         6.178705e-07\n",
       "IT-Sec Admin                                                                                                           6.178705e-07\n",
       "Search Engine Optimization / Pay Per Click                                                                             6.178705e-07\n",
       "Emerging Technology / Innovation                                                                                       6.178705e-07\n",
       "Governmental Affairs & Regulatory Law                                                                                  6.178705e-07\n",
       "Business Development                                                                                                   6.178705e-07\n",
       "Facilities Management                                                                                                  6.178705e-07\n",
       "Digital Transformation, Information Technology Executive, Information Technology, Engineering & Technical Executive    6.178705e-07\n",
       "Data Center                                                                                                            6.178705e-07\n",
       "Test / Quality Assurance                                                                                               6.178705e-07\n",
       "Business Service Management / ITSM                                                                                     6.178705e-07\n",
       "Nursing                                                                                                                6.178705e-07\n",
       "Sales Engineering                                                                                                      6.178705e-07\n",
       "Scrum Master / Agile Coach                                                                                             6.178705e-07\n",
       "Industrial Engineering                                                                                                 6.178705e-07\n",
       "Inside Sales                                                                                                           6.178705e-07\n",
       "Marketing/Sales                                                                                                        6.178705e-07\n",
       "Epidemiology                                                                                                           6.178705e-07\n",
       "Executive                                                                                                              6.178705e-07\n",
       "Director Global IT                                                                                                     6.178705e-07\n",
       "CIO                                                                                                                    6.178705e-07\n",
       "Application Development                                                                                                6.178705e-07\n",
       "Information Security, Information Technology, Enterprise Architecture                                                  6.178705e-07\n",
       "Customer Success                                                                                                       6.178705e-07\n",
       "HR / Financial / ERP Systems                                                                                           6.178705e-07\n",
       "Enterprise Architecture, HR / Financial / ERP Systems                                                                  6.178705e-07\n",
       "Sourcing / Procurement                                                                                                 6.178705e-07\n",
       "Servers                                                                                                                6.178705e-07\n",
       "Project & Program Management                                                                                           6.178705e-07\n",
       "It                                                                                                                     6.178705e-07\n",
       "Operations Executive, Operations                                                                                       6.178705e-07\n",
       "Information Technology, Information Technology Executive                                                               6.178705e-07\n",
       "Name: proportion, dtype: float64"
      ]
     },
     "execution_count": 63,
     "metadata": {},
     "output_type": "execute_result"
    },
    {
     "data": {
      "text/plain": [
       "0.9002596292035278"
      ]
     },
     "execution_count": 63,
     "metadata": {},
     "output_type": "execute_result"
    },
    {
     "data": {
      "text/plain": [
       "Job Level\n",
       "Contributor                                                     3.891182e-01\n",
       "Manager                                                         2.160764e-01\n",
       "Executive                                                       1.364609e-01\n",
       "Director                                                        1.347162e-01\n",
       "C-Level                                                         1.110835e-01\n",
       "Unknown                                                         8.732811e-03\n",
       "Non-Manager                                                     2.711578e-03\n",
       "C-level                                                         3.854411e-04\n",
       "VP-Level                                                        2.158470e-04\n",
       "Team Lead                                                       1.059963e-04\n",
       "Individual Contributor                                          7.580342e-05\n",
       "VP/Director                                                     7.259141e-05\n",
       "Engineer/Admin                                                  4.818014e-05\n",
       "Other                                                           4.496813e-05\n",
       "CxO                                                             2.569607e-05\n",
       "Director / C-Level                                              2.376887e-05\n",
       "Management                                                      1.156323e-05\n",
       "Director Level                                                  1.027843e-05\n",
       "Manager Level                                                   1.027843e-05\n",
       "Decision maker                                                  8.993626e-06\n",
       "Senior Management                                               6.424019e-06\n",
       "contributor                                                     6.424019e-06\n",
       "VP                                                              5.781617e-06\n",
       "??                                                              4.496813e-06\n",
       "Senior Security Engineer - SSE Lead                             3.212009e-06\n",
       "Technik DV/IT                                                   2.569607e-06\n",
       "IT                                                              2.569607e-06\n",
       "???                                                             1.927206e-06\n",
       "manager                                                         1.927206e-06\n",
       "Senior Manager                                                  1.927206e-06\n",
       "contribtuor                                                     1.284804e-06\n",
       "C level                                                         1.284804e-06\n",
       "Global Infosec Engineering Tech Manager                         1.284804e-06\n",
       "?? DX????                                                       1.284804e-06\n",
       "????                                                            1.284804e-06\n",
       "C-suite                                                         1.284804e-06\n",
       "Influencers                                                     1.284804e-06\n",
       "IT Security Admin                                               1.284804e-06\n",
       "Member of Technical Staff 2                                     1.284804e-06\n",
       "Director (It & Project) & Chief Information Security Officer    1.284804e-06\n",
       "Sr Manager                                                      1.284804e-06\n",
       "Analyst                                                         6.424019e-07\n",
       "??????????                                                      6.424019e-07\n",
       "Admin                                                           6.424019e-07\n",
       "Jt. General Manager                                             6.424019e-07\n",
       "IT Infrastructure Director                                      6.424019e-07\n",
       "Threat Hunting Manager                                          6.424019e-07\n",
       "Director of Enterprise Cloud Business                           6.424019e-07\n",
       "IT Security Director                                            6.424019e-07\n",
       "IT Security Manager                                             6.424019e-07\n",
       "IT Security Engineer                                            6.424019e-07\n",
       "Senior Executive                                                6.424019e-07\n",
       "C Level                                                         6.424019e-07\n",
       "Engineer                                                        6.424019e-07\n",
       "Exec.                                                           6.424019e-07\n",
       "Security Analyst                                                6.424019e-07\n",
       "Name: proportion, dtype: float64"
      ]
     },
     "execution_count": 63,
     "metadata": {},
     "output_type": "execute_result"
    },
    {
     "data": {
      "text/plain": [
       "0.9874551764099758"
      ]
     },
     "execution_count": 63,
     "metadata": {},
     "output_type": "execute_result"
    }
   ],
   "source": [
    "pd.set_option('display.max_rows',100)\n",
    "for col in lead_data.drop('Title',axis = 1):\n",
    "    temp = lead_data[col].value_counts(normalize=True)\n",
    "    temp\n",
    "    temp.iloc[0:5].sum()"
   ]
  },
  {
   "cell_type": "markdown",
   "metadata": {},
   "source": [
    "A few directives to clean this data:\n",
    "\n",
    "1. Job roles to remain - Information Security (group in 'INformation Security', 'information security'), Networking (group in 'Netoworking'), IT General (group in 'IT Facilities', 'IT', 'Senior Manager, Information Technology'), Development, Systems (Group in 'Business Systems'), Governance Risk Compliance (not indicated but there are a significant number of them, group in 'Senior Manager, Security, Risk, and Compliance', 'IT/IS Compliance/Risk/Control Staff'); everything else will flow through as Non-ICP\n",
    "2. Job functions to remain - IT (group in 'Information Technology','IT - Security','IT - Network','Information Security, Information Technology','IT Operations','IT-Sec Admin','Director Global IT','Information Security, Information Technology, Enterprise Architecture','It','Information Technology, Information Technology Executive'), Engineering (include 'Engineering & Technical','Engineer SASE'), Procurement (group in 'Purchasing','Sourcing / Procurement'), Risk/Legal/Compliance (include 'Legal','Risk, Legal Operations','Lawyer / Attorney','Governmental Affairs & Regulatory Law')\n",
    "3. Job levels to remain - Contributor (include 'Individual Contributor','contributor','contribtuor'), Manager (include 'Management','Manager Level','manager','Threat Hunting Manager','IT Security Manager'), Executive (include 'Senior Executive','Exec.'), Director (include 'Director Level','IT Infrastructure Director','Director of Enterprise Cloud Business','IT Security Director'), C-Level (group in 'C-level','CxO','C level','C-suite','Director (It & Project) & Chief Information Security Officer','C Level')"
   ]
  },
  {
   "cell_type": "code",
   "execution_count": 64,
   "metadata": {},
   "outputs": [],
   "source": [
    "lead_data = lead_data.replace({'Job Role':['INformation Security', 'information security']}, 'Information Security')\n",
    "lead_data = lead_data.replace({'Job Role':['Netoworking']}, 'Networking')\n",
    "lead_data = lead_data.replace({'Job Role':['IT Facilities', 'IT', 'Senior Manager, Information Technology']}, 'IT General')\n",
    "lead_data = lead_data.replace({'Job Role':['Business Systems']}, 'Systems')\n",
    "lead_data = lead_data.replace({'Job Role':['Senior Manager, Security, Risk, and Compliance', 'IT/IS Compliance/Risk/Control Staff']}, 'Governance Risk Compliance')\n",
    "lead_data.loc[~lead_data['Job Role'].isin(['Information Security','Networking','IT General','Systems','Governance Risk Compliance']) &\n",
    "              ~lead_data['Job Role'].isna(),\n",
    "              lead_data.columns == 'Job Role'] = 'Non-ICP'"
   ]
  },
  {
   "cell_type": "code",
   "execution_count": 65,
   "metadata": {},
   "outputs": [],
   "source": [
    "lead_data = lead_data.replace({'Job Function':['Information Technology','IT - Security','IT - Network','Information Security, Information Technology','IT Operations','IT-Sec Admin','Director Global IT','Information Security, Information Technology, Enterprise Architecture','It','Information Technology, Information Technology Executive']},\n",
    "                              'IT')\n",
    "lead_data = lead_data.replace({'Job Function':['Engineering & Technical','Engineer SASE']},'Engineering')\n",
    "lead_data = lead_data.replace({'Job Function':['Purchasing','Sourcing / Procurement']},'Procurement')\n",
    "lead_data = lead_data.replace({'Job Function':['Legal','Risk, Legal Operations','Lawyer / Attorney','Governmental Affairs & Regulatory Law']},\n",
    "                              'Risk/Legal/Compliance')\n",
    "lead_data.loc[~lead_data['Job Function'].isin(['IT','Engineering','Procurement','Risk/Legal/Compliance']) &\n",
    "              ~lead_data['Job Function'].isna(),\n",
    "              lead_data.columns == 'Job Function'] = 'Non-ICP'"
   ]
  },
  {
   "cell_type": "code",
   "execution_count": 66,
   "metadata": {},
   "outputs": [],
   "source": [
    "lead_data = lead_data.replace({'Job Level':['Individual Contributor','contributor','contribtuor']},'Contributor')\n",
    "lead_data = lead_data.replace({'Job Level':['Management','Manager Level','manager','Threat Hunting Manager','IT Security Manager']},'Manager')\n",
    "lead_data = lead_data.replace({'Job Level':['Senior Executive','Exec.']},'Executive')\n",
    "lead_data = lead_data.replace({'Job Level':['Director Level','IT Infrastructure Director','Director of Enterprise Cloud Business','IT Security Director']},'Director')\n",
    "lead_data = lead_data.replace({'Job Level':['C-level','CxO','C level','C-suite','Director (It & Project) & Chief Information Security Officer','C Level']},'C-Level')\n",
    "lead_data.loc[~lead_data['Job Level'].isin(['Contributor','Manager','Executive','Director','C-Level']) &\n",
    "              ~lead_data['Job Level'].isna(),\n",
    "              lead_data.columns == 'Job Level'] = 'Unknown'"
   ]
  },
  {
   "cell_type": "markdown",
   "metadata": {},
   "source": [
    "Now let's look at the counts of the modified dataframe"
   ]
  },
  {
   "cell_type": "code",
   "execution_count": 67,
   "metadata": {},
   "outputs": [
    {
     "data": {
      "text/plain": [
       "Job Role\n",
       "Non-ICP                       624092\n",
       "Information Security          459389\n",
       "Networking                    299568\n",
       "IT General                    168933\n",
       "Systems                        37543\n",
       "Governance Risk Compliance     30583\n",
       "Name: count, dtype: int64"
      ]
     },
     "execution_count": 67,
     "metadata": {},
     "output_type": "execute_result"
    },
    {
     "data": {
      "text/plain": [
       "Job Function\n",
       "IT                       1036136\n",
       "Non-ICP                   429404\n",
       "Engineering               143817\n",
       "Procurement                 5872\n",
       "Risk/Legal/Compliance       3233\n",
       "Name: count, dtype: int64"
      ]
     },
     "execution_count": 67,
     "metadata": {},
     "output_type": "execute_result"
    },
    {
     "data": {
      "text/plain": [
       "Job Level\n",
       "Contributor    605854\n",
       "Manager        336396\n",
       "Executive      212425\n",
       "Director       209726\n",
       "C-Level        173566\n",
       "Unknown         18691\n",
       "Name: count, dtype: int64"
      ]
     },
     "execution_count": 67,
     "metadata": {},
     "output_type": "execute_result"
    }
   ],
   "source": [
    "for col in lead_data.drop('Title',axis = 1):\n",
    "    lead_data[col].value_counts()"
   ]
  },
  {
   "cell_type": "code",
   "execution_count": 68,
   "metadata": {},
   "outputs": [
    {
     "data": {
      "text/plain": [
       "Job Role\n",
       "Non-ICP                       0.385216\n",
       "Information Security          0.283555\n",
       "Networking                    0.184906\n",
       "IT General                    0.104273\n",
       "Systems                       0.023173\n",
       "Governance Risk Compliance    0.018877\n",
       "Name: proportion, dtype: float64"
      ]
     },
     "execution_count": 68,
     "metadata": {},
     "output_type": "execute_result"
    },
    {
     "data": {
      "text/plain": [
       "Job Function\n",
       "IT                       0.640198\n",
       "Non-ICP                  0.265316\n",
       "Engineering              0.088860\n",
       "Procurement              0.003628\n",
       "Risk/Legal/Compliance    0.001998\n",
       "Name: proportion, dtype: float64"
      ]
     },
     "execution_count": 68,
     "metadata": {},
     "output_type": "execute_result"
    },
    {
     "data": {
      "text/plain": [
       "Job Level\n",
       "Contributor    0.389202\n",
       "Manager        0.216101\n",
       "Executive      0.136462\n",
       "Director       0.134728\n",
       "C-Level        0.111499\n",
       "Unknown        0.012007\n",
       "Name: proportion, dtype: float64"
      ]
     },
     "execution_count": 68,
     "metadata": {},
     "output_type": "execute_result"
    }
   ],
   "source": [
    "for col in lead_data.drop('Title',axis = 1):\n",
    "    lead_data[col].value_counts(normalize=True)"
   ]
  },
  {
   "cell_type": "markdown",
   "metadata": {},
   "source": [
    "Number of rows where any one of the outputs are NA"
   ]
  },
  {
   "cell_type": "code",
   "execution_count": 69,
   "metadata": {},
   "outputs": [
    {
     "data": {
      "text/plain": [
       "112178"
      ]
     },
     "execution_count": 69,
     "metadata": {},
     "output_type": "execute_result"
    },
    {
     "data": {
      "text/plain": [
       "0.06809032903426307"
      ]
     },
     "execution_count": 69,
     "metadata": {},
     "output_type": "execute_result"
    }
   ],
   "source": [
    "(lead_data['Job Role'].isna()|lead_data['Job Function'].isna()|lead_data['Job Level'].isna()).sum()\n",
    "(lead_data['Job Role'].isna()|lead_data['Job Function'].isna()|lead_data['Job Level'].isna()).sum()/lead_data.shape[0]"
   ]
  },
  {
   "cell_type": "markdown",
   "metadata": {},
   "source": [
    "To make modeling easier, it might be acceptable to drop this 7% of the data. Now let's see the number of distinct words in the job title field. Need to filter out NaNs."
   ]
  },
  {
   "cell_type": "code",
   "execution_count": 70,
   "metadata": {},
   "outputs": [
    {
     "data": {
      "text/plain": [
       "47285"
      ]
     },
     "execution_count": 70,
     "metadata": {},
     "output_type": "execute_result"
    },
    {
     "data": {
      "text/plain": [
       "0.028701271268743687"
      ]
     },
     "execution_count": 70,
     "metadata": {},
     "output_type": "execute_result"
    }
   ],
   "source": [
    "lead_data['Title'].isna().sum()\n",
    "lead_data['Title'].isna().sum()/lead_data.shape[0]"
   ]
  },
  {
   "cell_type": "code",
   "execution_count": 71,
   "metadata": {},
   "outputs": [
    {
     "data": {
      "text/plain": [
       "119472"
      ]
     },
     "execution_count": 71,
     "metadata": {},
     "output_type": "execute_result"
    },
    {
     "data": {
      "text/plain": [
       "0.07251767539429725"
      ]
     },
     "execution_count": 71,
     "metadata": {},
     "output_type": "execute_result"
    }
   ],
   "source": [
    "(lead_data['Job Role'].isna()|lead_data['Job Function'].isna()|lead_data['Job Level'].isna()|lead_data['Title'].isna()).sum()\n",
    "(lead_data['Job Role'].isna()|lead_data['Job Function'].isna()|lead_data['Job Level'].isna()|lead_data['Title'].isna()).sum()/lead_data.shape[0]"
   ]
  },
  {
   "cell_type": "markdown",
   "metadata": {},
   "source": [
    "Nearly 50K NAs, which is about 3% of the data."
   ]
  },
  {
   "cell_type": "code",
   "execution_count": 72,
   "metadata": {},
   "outputs": [],
   "source": [
    "words_series = lead_data['Title'].loc[~lead_data['Title'].isna()].str.lower().str.split().tolist()\n",
    "words_list = [word for title in words_series for word in title]"
   ]
  },
  {
   "cell_type": "markdown",
   "metadata": {},
   "source": [
    "Unique number of words"
   ]
  },
  {
   "cell_type": "code",
   "execution_count": 73,
   "metadata": {},
   "outputs": [
    {
     "data": {
      "text/plain": [
       "63781"
      ]
     },
     "execution_count": 73,
     "metadata": {},
     "output_type": "execute_result"
    }
   ],
   "source": [
    "words_set = set(words_list)\n",
    "len(words_set)"
   ]
  },
  {
   "cell_type": "markdown",
   "metadata": {},
   "source": [
    "Remove stopwords"
   ]
  },
  {
   "cell_type": "code",
   "execution_count": 74,
   "metadata": {},
   "outputs": [
    {
     "name": "stderr",
     "output_type": "stream",
     "text": [
      "[nltk_data] Downloading package stopwords to\n",
      "[nltk_data]     C:\\Users\\csarc\\AppData\\Roaming\\nltk_data...\n",
      "[nltk_data]   Package stopwords is already up-to-date!\n"
     ]
    },
    {
     "data": {
      "text/plain": [
       "True"
      ]
     },
     "execution_count": 74,
     "metadata": {},
     "output_type": "execute_result"
    }
   ],
   "source": [
    "nltk.download('stopwords')\n",
    "stop_words = set(stopwords.words('english'))"
   ]
  },
  {
   "cell_type": "code",
   "execution_count": 75,
   "metadata": {},
   "outputs": [
    {
     "data": {
      "text/plain": [
       "63669"
      ]
     },
     "execution_count": 75,
     "metadata": {},
     "output_type": "execute_result"
    }
   ],
   "source": [
    "len(words_set - stop_words)"
   ]
  },
  {
   "cell_type": "markdown",
   "metadata": {},
   "source": [
    "Not that many overlapping, so there's not really that much of an impact of removing stopwords. Thus, for the model, I won't even bother to do this."
   ]
  }
 ],
 "metadata": {
  "kernelspec": {
   "display_name": "netskope",
   "language": "python",
   "name": "python3"
  },
  "language_info": {
   "codemirror_mode": {
    "name": "ipython",
    "version": 3
   },
   "file_extension": ".py",
   "mimetype": "text/x-python",
   "name": "python",
   "nbconvert_exporter": "python",
   "pygments_lexer": "ipython3",
   "version": "3.12.1"
  }
 },
 "nbformat": 4,
 "nbformat_minor": 2
}
