{
 "cells": [
  {
   "cell_type": "code",
   "execution_count": 1,
   "metadata": {},
   "outputs": [
    {
     "name": "stderr",
     "output_type": "stream",
     "text": [
      "c:\\Users\\csarc\\anaconda3\\envs\\netskope\\Lib\\site-packages\\tqdm\\auto.py:21: TqdmWarning: IProgress not found. Please update jupyter and ipywidgets. See https://ipywidgets.readthedocs.io/en/stable/user_install.html\n",
      "  from .autonotebook import tqdm as notebook_tqdm\n"
     ]
    }
   ],
   "source": [
    "import torch\n",
    "import sys\n",
    "import pickle\n",
    "from transformers import DistilBertTokenizer\n",
    "sys.path.append('../')\n",
    "from distilbert_uncased_model import DistilBERTClass\n",
    "CHECKPOINTLOC = '../final_model/Production_Model_v1'"
   ]
  },
  {
   "cell_type": "code",
   "execution_count": 2,
   "metadata": {},
   "outputs": [
    {
     "data": {
      "text/plain": [
       "<All keys matched successfully>"
      ]
     },
     "execution_count": 2,
     "metadata": {},
     "output_type": "execute_result"
    }
   ],
   "source": [
    "\n",
    "model = DistilBERTClass()\n",
    "checkpoint = torch.load(CHECKPOINTLOC)\n",
    "model.load_state_dict(checkpoint['model_state_dict'])"
   ]
  },
  {
   "cell_type": "code",
   "execution_count": 3,
   "metadata": {},
   "outputs": [
    {
     "name": "stdout",
     "output_type": "stream",
     "text": [
      "DistilBERTClass(\n",
      "  (l1): DistilBertModel(\n",
      "    (embeddings): Embeddings(\n",
      "      (word_embeddings): Embedding(30522, 768, padding_idx=0)\n",
      "      (position_embeddings): Embedding(512, 768)\n",
      "      (LayerNorm): LayerNorm((768,), eps=1e-12, elementwise_affine=True)\n",
      "      (dropout): Dropout(p=0.1, inplace=False)\n",
      "    )\n",
      "    (transformer): Transformer(\n",
      "      (layer): ModuleList(\n",
      "        (0-5): 6 x TransformerBlock(\n",
      "          (attention): MultiHeadSelfAttention(\n",
      "            (dropout): Dropout(p=0.1, inplace=False)\n",
      "            (q_lin): Linear(in_features=768, out_features=768, bias=True)\n",
      "            (k_lin): Linear(in_features=768, out_features=768, bias=True)\n",
      "            (v_lin): Linear(in_features=768, out_features=768, bias=True)\n",
      "            (out_lin): Linear(in_features=768, out_features=768, bias=True)\n",
      "          )\n",
      "          (sa_layer_norm): LayerNorm((768,), eps=1e-12, elementwise_affine=True)\n",
      "          (ffn): FFN(\n",
      "            (dropout): Dropout(p=0.1, inplace=False)\n",
      "            (lin1): Linear(in_features=768, out_features=3072, bias=True)\n",
      "            (lin2): Linear(in_features=3072, out_features=768, bias=True)\n",
      "            (activation): GELUActivation()\n",
      "          )\n",
      "          (output_layer_norm): LayerNorm((768,), eps=1e-12, elementwise_affine=True)\n",
      "        )\n",
      "      )\n",
      "    )\n",
      "  )\n",
      "  (pre_classifier_role): Linear(in_features=768, out_features=768, bias=True)\n",
      "  (pre_classifier_function): Linear(in_features=768, out_features=768, bias=True)\n",
      "  (pre_classifier_level): Linear(in_features=768, out_features=768, bias=True)\n",
      "  (dropout): Dropout(p=0.3, inplace=False)\n",
      "  (classifier_role): Linear(in_features=768, out_features=7, bias=True)\n",
      "  (classifier_function): Linear(in_features=768, out_features=5, bias=True)\n",
      "  (classifier_level): Linear(in_features=768, out_features=6, bias=True)\n",
      ")\n"
     ]
    }
   ],
   "source": [
    "print(model)\n"
   ]
  },
  {
   "cell_type": "code",
   "execution_count": 4,
   "metadata": {},
   "outputs": [
    {
     "data": {
      "text/plain": [
       "{'Job Role': {0: 'DEVELOPMENT',\n",
       "  1: 'GOVERNANCE RISK COMPLIANCE',\n",
       "  2: 'INFORMATION SECURITY',\n",
       "  3: 'IT GENERAL',\n",
       "  4: 'NETWORKING',\n",
       "  5: 'NON-ICP',\n",
       "  6: 'SYSTEMS'},\n",
       " 'Job Function': {0: 'ENGINEERING',\n",
       "  1: 'IT',\n",
       "  2: 'NON-ICP',\n",
       "  3: 'PROCUREMENT',\n",
       "  4: 'RISK/LEGAL/COMPLIANCE'},\n",
       " 'Job Level': {0: 'C-LEVEL',\n",
       "  1: 'CONTRIBUTOR',\n",
       "  2: 'DIRECTOR',\n",
       "  3: 'EXECUTIVE',\n",
       "  4: 'MANAGER',\n",
       "  5: 'UNKNOWN'}}"
      ]
     },
     "execution_count": 4,
     "metadata": {},
     "output_type": "execute_result"
    }
   ],
   "source": [
    "with open('../Data/index_label_mapping.pkl','rb') as file:\n",
    "    encoder = pickle.load(file)\n",
    "\n",
    "encoder"
   ]
  },
  {
   "cell_type": "code",
   "execution_count": 5,
   "metadata": {},
   "outputs": [],
   "source": [
    "tokenizer = DistilBertTokenizer.from_pretrained('distilbert-base-uncased', truncation=True, do_lower_case=True)"
   ]
  },
  {
   "cell_type": "code",
   "execution_count": 6,
   "metadata": {},
   "outputs": [
    {
     "data": {
      "text/html": [
       "<div>\n",
       "<style scoped>\n",
       "    .dataframe tbody tr th:only-of-type {\n",
       "        vertical-align: middle;\n",
       "    }\n",
       "\n",
       "    .dataframe tbody tr th {\n",
       "        vertical-align: top;\n",
       "    }\n",
       "\n",
       "    .dataframe thead th {\n",
       "        text-align: right;\n",
       "    }\n",
       "</style>\n",
       "<table border=\"1\" class=\"dataframe\">\n",
       "  <thead>\n",
       "    <tr style=\"text-align: right;\">\n",
       "      <th></th>\n",
       "      <th>Title</th>\n",
       "      <th>Job Function</th>\n",
       "      <th>Job Role</th>\n",
       "      <th>Job Level</th>\n",
       "    </tr>\n",
       "  </thead>\n",
       "  <tbody>\n",
       "    <tr>\n",
       "      <th>0</th>\n",
       "      <td>MANAGER-CYBERSECURITY</td>\n",
       "      <td>IT</td>\n",
       "      <td>INFORMATION SECURITY</td>\n",
       "      <td>MANAGER</td>\n",
       "    </tr>\n",
       "    <tr>\n",
       "      <th>1</th>\n",
       "      <td>MANAGER, INFORMATION SECURITY</td>\n",
       "      <td>IT</td>\n",
       "      <td>INFORMATION SECURITY</td>\n",
       "      <td>MANAGER</td>\n",
       "    </tr>\n",
       "    <tr>\n",
       "      <th>2</th>\n",
       "      <td>USER EXPERIENCE ANALYST</td>\n",
       "      <td>ENGINEERING</td>\n",
       "      <td>DEVELOPMENT</td>\n",
       "      <td>CONTRIBUTOR</td>\n",
       "    </tr>\n",
       "    <tr>\n",
       "      <th>3</th>\n",
       "      <td>NETWORK SPECIALIST</td>\n",
       "      <td>IT</td>\n",
       "      <td>NETWORKING</td>\n",
       "      <td>CONTRIBUTOR</td>\n",
       "    </tr>\n",
       "    <tr>\n",
       "      <th>4</th>\n",
       "      <td>DIRECTOR OF PRIVACY AND COMPLIANCE</td>\n",
       "      <td>IT</td>\n",
       "      <td>INFORMATION SECURITY</td>\n",
       "      <td>DIRECTOR</td>\n",
       "    </tr>\n",
       "  </tbody>\n",
       "</table>\n",
       "</div>"
      ],
      "text/plain": [
       "                                Title Job Function              Job Role  \\\n",
       "0               MANAGER-CYBERSECURITY           IT  INFORMATION SECURITY   \n",
       "1       MANAGER, INFORMATION SECURITY           IT  INFORMATION SECURITY   \n",
       "2             USER EXPERIENCE ANALYST  ENGINEERING           DEVELOPMENT   \n",
       "3                  NETWORK SPECIALIST           IT            NETWORKING   \n",
       "4  DIRECTOR OF PRIVACY AND COMPLIANCE           IT  INFORMATION SECURITY   \n",
       "\n",
       "     Job Level  \n",
       "0      MANAGER  \n",
       "1      MANAGER  \n",
       "2  CONTRIBUTOR  \n",
       "3  CONTRIBUTOR  \n",
       "4     DIRECTOR  "
      ]
     },
     "execution_count": 6,
     "metadata": {},
     "output_type": "execute_result"
    }
   ],
   "source": [
    "with open('../Data/lead_data.pkl','rb') as file:\n",
    "    lead_data = pickle.load(file)\n",
    "\n",
    "lead_data.head()"
   ]
  },
  {
   "cell_type": "code",
   "execution_count": 11,
   "metadata": {},
   "outputs": [],
   "source": [
    "lead_data['Sequence_Length_Tokens'] = lead_data['Title'].apply(lambda x: len(tokenizer.encode(x)))"
   ]
  },
  {
   "cell_type": "code",
   "execution_count": 12,
   "metadata": {},
   "outputs": [
    {
     "data": {
      "text/html": [
       "<div>\n",
       "<style scoped>\n",
       "    .dataframe tbody tr th:only-of-type {\n",
       "        vertical-align: middle;\n",
       "    }\n",
       "\n",
       "    .dataframe tbody tr th {\n",
       "        vertical-align: top;\n",
       "    }\n",
       "\n",
       "    .dataframe thead th {\n",
       "        text-align: right;\n",
       "    }\n",
       "</style>\n",
       "<table border=\"1\" class=\"dataframe\">\n",
       "  <thead>\n",
       "    <tr style=\"text-align: right;\">\n",
       "      <th></th>\n",
       "      <th>Title</th>\n",
       "      <th>Job Function</th>\n",
       "      <th>Job Role</th>\n",
       "      <th>Job Level</th>\n",
       "      <th>Sequence_Length_Tokens</th>\n",
       "    </tr>\n",
       "  </thead>\n",
       "  <tbody>\n",
       "    <tr>\n",
       "      <th>0</th>\n",
       "      <td>MANAGER-CYBERSECURITY</td>\n",
       "      <td>IT</td>\n",
       "      <td>INFORMATION SECURITY</td>\n",
       "      <td>MANAGER</td>\n",
       "      <td>8</td>\n",
       "    </tr>\n",
       "    <tr>\n",
       "      <th>1</th>\n",
       "      <td>MANAGER, INFORMATION SECURITY</td>\n",
       "      <td>IT</td>\n",
       "      <td>INFORMATION SECURITY</td>\n",
       "      <td>MANAGER</td>\n",
       "      <td>6</td>\n",
       "    </tr>\n",
       "    <tr>\n",
       "      <th>2</th>\n",
       "      <td>USER EXPERIENCE ANALYST</td>\n",
       "      <td>ENGINEERING</td>\n",
       "      <td>DEVELOPMENT</td>\n",
       "      <td>CONTRIBUTOR</td>\n",
       "      <td>5</td>\n",
       "    </tr>\n",
       "    <tr>\n",
       "      <th>3</th>\n",
       "      <td>NETWORK SPECIALIST</td>\n",
       "      <td>IT</td>\n",
       "      <td>NETWORKING</td>\n",
       "      <td>CONTRIBUTOR</td>\n",
       "      <td>4</td>\n",
       "    </tr>\n",
       "    <tr>\n",
       "      <th>4</th>\n",
       "      <td>DIRECTOR OF PRIVACY AND COMPLIANCE</td>\n",
       "      <td>IT</td>\n",
       "      <td>INFORMATION SECURITY</td>\n",
       "      <td>DIRECTOR</td>\n",
       "      <td>7</td>\n",
       "    </tr>\n",
       "  </tbody>\n",
       "</table>\n",
       "</div>"
      ],
      "text/plain": [
       "                                Title Job Function              Job Role  \\\n",
       "0               MANAGER-CYBERSECURITY           IT  INFORMATION SECURITY   \n",
       "1       MANAGER, INFORMATION SECURITY           IT  INFORMATION SECURITY   \n",
       "2             USER EXPERIENCE ANALYST  ENGINEERING           DEVELOPMENT   \n",
       "3                  NETWORK SPECIALIST           IT            NETWORKING   \n",
       "4  DIRECTOR OF PRIVACY AND COMPLIANCE           IT  INFORMATION SECURITY   \n",
       "\n",
       "     Job Level  Sequence_Length_Tokens  \n",
       "0      MANAGER                       8  \n",
       "1      MANAGER                       6  \n",
       "2  CONTRIBUTOR                       5  \n",
       "3  CONTRIBUTOR                       4  \n",
       "4     DIRECTOR                       7  "
      ]
     },
     "execution_count": 12,
     "metadata": {},
     "output_type": "execute_result"
    }
   ],
   "source": [
    "lead_data.head()"
   ]
  },
  {
   "cell_type": "code",
   "execution_count": 13,
   "metadata": {},
   "outputs": [
    {
     "data": {
      "text/plain": [
       "0"
      ]
     },
     "execution_count": 13,
     "metadata": {},
     "output_type": "execute_result"
    }
   ],
   "source": [
    "# How many data samples exceed 64 tokens?\n",
    "(lead_data['Sequence_Length_Tokens'] > 64).sum()"
   ]
  },
  {
   "cell_type": "code",
   "execution_count": 14,
   "metadata": {},
   "outputs": [
    {
     "data": {
      "text/plain": [
       "46"
      ]
     },
     "execution_count": 14,
     "metadata": {},
     "output_type": "execute_result"
    }
   ],
   "source": [
    "# Length of maximum sequence?\n",
    "lead_data['Sequence_Length_Tokens'].max()"
   ]
  }
 ],
 "metadata": {
  "kernelspec": {
   "display_name": "netskope",
   "language": "python",
   "name": "python3"
  },
  "language_info": {
   "codemirror_mode": {
    "name": "ipython",
    "version": 3
   },
   "file_extension": ".py",
   "mimetype": "text/x-python",
   "name": "python",
   "nbconvert_exporter": "python",
   "pygments_lexer": "ipython3",
   "version": "3.12.1"
  }
 },
 "nbformat": 4,
 "nbformat_minor": 2
}
